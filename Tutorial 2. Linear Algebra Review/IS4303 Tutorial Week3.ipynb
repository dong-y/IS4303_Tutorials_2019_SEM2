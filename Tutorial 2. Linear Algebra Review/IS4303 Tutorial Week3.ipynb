{
 "cells": [
  {
   "cell_type": "markdown",
   "metadata": {},
   "source": [
    "# IS4303 IT-MEDIATED FINANCIAL SOLUTIONS AND PLATFORMS"
   ]
  },
  {
   "cell_type": "markdown",
   "metadata": {},
   "source": [
    "> ## Week 3 - Numpy, Pandas and Linear Algebra in Python"
   ]
  },
  {
   "cell_type": "markdown",
   "metadata": {},
   "source": [
    "<html>\n",
    "<body>\n",
    "<div class=\"alert alert-warning\">\n",
    "<span class=\"text\" style=\"color: #333\"><h2>Sections:</h2></span><br>\n",
    "<nav class=\"navbar navbar-default\" role=\"navigation\">\n",
    "    <div class=\"container-fluid\"> \n",
    "    <div class=\"navbar-header\">\n",
    "        <button type=\"button\" class=\"navbar-toggle\" data-toggle=\"collapse\"\n",
    "                data-target=\"#example-navbar-collapse\">\n",
    "            <span class=\"icon-bar\"></span>\n",
    "            <span class=\"icon-bar\"></span>\n",
    "            <span class=\"icon-bar\"></span>\n",
    "            <span class=\"icon-bar\"></span>\n",
    "            <span class=\"icon-bar\"></span>\n",
    "            <span class=\"icon-bar\"></span>\n",
    "        </button>\n",
    "    </div>\n",
    "    <div class=\"collapse navbar-collapse\" id=\"example-navbar-collapse\">\n",
    "        <ul class=\"nav navbar-nav\" style=\"background-color: #E6E6FA\">\n",
    "            <li class=\"active\"><a href=\"#Review\" style=\"color: white; text-decoration: none; background-color: #4CAF50\">Linear Algebra Review</a></li>\n",
    "            <li><a href=\"#References\" style=\"color: #333; text-decoration: none\">References</a></li>\n",
    "            <li><a href=\"#0\" style=\"color: #333; text-decoration: none\">0. Goal</a></li>\n",
    "            <li><a href=\"#1\" style=\"color: #333; text-decoration: none\">1. Install Packages</a></li>\n",
    "            <li><a href=\"#2\" style=\"color: #333; text-decoration: none\">2. Numpy</a></li>\n",
    "            <li><a href=\"#3\" style=\"color: #333; text-decoration: none\">3. Pandas</a></li>            \n",
    "        </ul>\n",
    "    </div>\n",
    "    </div>\n",
    "</nav>\n",
    "</div>\n",
    "</body>\n",
    "<html>"
   ]
  },
  {
   "cell_type": "markdown",
   "metadata": {},
   "source": [
    "***"
   ]
  },
  {
   "cell_type": "markdown",
   "metadata": {},
   "source": [
    "<a id=\"Review\"></a>"
   ]
  },
  {
   "cell_type": "markdown",
   "metadata": {},
   "source": [
    "<span class=\"text\"><h2>References</h2></span>"
   ]
  },
  {
   "cell_type": "markdown",
   "metadata": {},
   "source": [
    "<html>\n",
    "<head>\n",
    "\t<meta charset=\"utf-8\"> \n",
    "\t<title>References</title>\n",
    "\t<link rel=\"stylesheet\" href=\"http://cdn.staticfile.org/twitter-bootstrap/3.3.7/css/bootstrap.min.css\">\n",
    "\t<script src=\"http://cdn.staticfile.org/jquery/2.1.1/jquery.min.js\"></script>\n",
    "\t<script src=\"http://cdn.staticfile.org/twitter-bootstrap/3.3.7/js/bootstrap.min.js\"></script>\n",
    "</head>\n",
    "<body>\n",
    "<div id=\"myCarousel\" class=\"carousel slide\">\n",
    "\t<!-- Carousel Indicator -->\n",
    "\t<ol class=\"carousel-indicators\">\n",
    "\t\t<li data-target=\"#myCarousel\" data-slide-to=\"0\" class=\"active\"></li>\n",
    "\t\t<li data-target=\"#myCarousel\" data-slide-to=\"1\"></li>\n",
    "\t</ol>   \n",
    "\t<!-- Carousel Item -->\n",
    "\t<div class=\"carousel-inner\">\n",
    "     <div class=\"item active\">\n",
    "        <img src=\"https://covers.oreillystatic.com/images/0636920032861/lrg.jpg\" width=\"345\" alt=\"First slide\">\n",
    "        <div class=\"carousel-caption\"><font color=\"blue\">Kazil, Jacqueline, and Katharine Jarmul. Data wrangling with Python: tips and tools to make your life easier. \" O'Reilly Media, Inc.\", 2016.</font></div>\n",
    "\t\t</div>\n",
    "\t\t<div class=\"item\">\n",
    "\t\t\t<img src=\"https://d1w7fb2mkkr3kw.cloudfront.net/assets/images/book/lrg/9781/4919/9781491957660.jpg\" width=\"345\" alt=\"Second slide\">\n",
    "        <div class=\"carousel-caption\"><font color=\"red\">McKinney, Wes. Python for data analysis: Data wrangling with Pandas, NumPy, and IPython. \" O'Reilly Media, Inc.\", 2012.</font></div>\n",
    "\t\t</div>\n",
    "\t</div>\n",
    "\t<!-- Carousel Navigator -->\n",
    "\t<a class=\"left carousel-control\" href=\"#myCarousel\" role=\"button\" data-slide=\"prev\">\n",
    "    <button type=\"button\" class=\"btn btn-default btn-lg\">\n",
    "\t\t<span class=\"caret\" aria-hidden=\"true\"></span>\n",
    "\t\t<span class=\"sr-only\">Previous</span></button>\n",
    "\t</a>\n",
    "\t<a class=\"right carousel-control\" href=\"#myCarousel\" role=\"button\" data-slide=\"next\">\n",
    "    <button type=\"button\" class=\"btn btn-default btn-lg\">\n",
    "\t\t<span class=\"caret\" aria-hidden=\"true\"></span>\n",
    "\t\t<span class=\"sr-only\">Next</span></button>\n",
    "\t</a>\n",
    "</div>\n",
    "</body>\n",
    "</html>"
   ]
  },
  {
   "cell_type": "markdown",
   "metadata": {},
   "source": [
    "<span class=\"text\"><h2>Linear Algebra Review</h2></span>\n",
    "<div class=\"alert alert-success\">\n",
    "<b>Resources:</b> \n",
    "<a href=\"https://youtu.be/4Pm-htIGVMQ\" target=\"_blank\" style=\"text-decoration: none\"><span class=\"label label-warning\">Youtube</span></a>\n",
    "<a href=\"http://people.brandeis.edu/~pmherb/MATLABbootcamp/matrixalgebrareview.html\" target=\"_blank\" style=\"text-decoration: none\"><span class=\"label label-info\">Basics</span></a>\n",
    "</div>"
   ]
  },
  {
   "cell_type": "code",
   "execution_count": 1,
   "metadata": {},
   "outputs": [
    {
     "data": {
      "text/html": [
       "\n",
       "        <iframe\n",
       "            width=\"500\"\n",
       "            height=\"300\"\n",
       "            src=\"https://www.youtube.com/embed/4Pm-htIGVMQ\"\n",
       "            frameborder=\"0\"\n",
       "            allowfullscreen\n",
       "        ></iframe>\n",
       "        "
      ],
      "text/plain": [
       "<IPython.lib.display.IFrame at 0x178819d6978>"
      ]
     },
     "execution_count": 1,
     "metadata": {},
     "output_type": "execute_result"
    }
   ],
   "source": [
    "# You can also watch this youtube video in this notebook\n",
    "from IPython.display import HTML, IFrame\n",
    "IFrame(src=\"https://www.youtube.com/embed/4Pm-htIGVMQ\", width=\"500\", height=\"300\")"
   ]
  },
  {
   "cell_type": "markdown",
   "metadata": {},
   "source": [
    "<a id=\"References\"></a>"
   ]
  },
  {
   "cell_type": "markdown",
   "metadata": {},
   "source": [
    "***"
   ]
  },
  {
   "cell_type": "markdown",
   "metadata": {},
   "source": [
    "<a id=\"0\"></a>"
   ]
  },
  {
   "cell_type": "markdown",
   "metadata": {},
   "source": [
    "<span class=\"text\"><h2>0 Goal</h2></span>\n",
    "<div class=\"alert alert-success\">\n",
    "<p style=\"font-size:120%\"><b>The goal of this tutorial is to understand:</b></p> \n",
    "<ol>\n",
    "<li>Basics of <code>numpy</code> and <code>pandas</code> packages</li>\n",
    "<li>Linear algebra operations in Python</li>\n",
    "</ol>\n",
    "</div>"
   ]
  },
  {
   "cell_type": "markdown",
   "metadata": {},
   "source": [
    "<a id=\"1\"></a>"
   ]
  },
  {
   "cell_type": "markdown",
   "metadata": {},
   "source": [
    "<span class=\"text\"><h2>1 Install Packages</h2></span>\n",
    "<div class=\"alert alert-success\">\n",
    "<font size=\"3\"><b>Remember: </b></font><p>Install <code>numpy</code> and <code>pandas</code> packages in your Anaconda environment.</p>\n",
    "<br><br>\n",
    "<div class=\"btn-group\"> \n",
    "    <a href=\"http://www.numpy.org/\" target=\"_blank\" class=\"btn btn-info\" role=\"button\" style=\"text-decoration: none\">numpy</a>\n",
    "    <a href=\"https://pandas.pydata.org/\" target=\"_blank\" class=\"btn btn-danger\" role=\"button\" style=\"text-decoration: none\">pandas</a>\n",
    "</div>\n",
    "</div>"
   ]
  },
  {
   "cell_type": "code",
   "execution_count": 2,
   "metadata": {},
   "outputs": [],
   "source": [
    "#!/usr/bin/env python\n",
    "# -*- coding: utf-8 -*-\n",
    "\n",
    "# Import packages\n",
    "from __future__ import division, print_function\n",
    "import numpy as np\n",
    "import pandas as pd"
   ]
  },
  {
   "cell_type": "markdown",
   "metadata": {},
   "source": [
    "<a id=\"2\"></a> "
   ]
  },
  {
   "cell_type": "markdown",
   "metadata": {},
   "source": [
    "<span class=\"text\"><h2>2 Numpy</h2></span>\n",
    "<br>\n",
    "<nav class=\"navbar navbar-default\" role=\"navigation\">\n",
    "    <div class=\"container-fluid\"> \n",
    "    <div class=\"navbar-header\">\n",
    "        <button type=\"button\" class=\"navbar-toggle\" data-toggle=\"collapse\"\n",
    "                data-target=\"#example-navbar-collapse\">\n",
    "            <span class=\"sr-only\">Navigator</span>\n",
    "            <span class=\"icon-bar\"></span>\n",
    "            <span class=\"icon-bar\"></span>\n",
    "            <span class=\"icon-bar\"></span>\n",
    "        </button>\n",
    "        <a class=\"navbar-brand\" style=\"color: #333;\"><b>Navigation:</b></a>\n",
    "    </div>\n",
    "    <div class=\"collapse navbar-collapse\" id=\"example-navbar-collapse\">\n",
    "        <ul class=\"nav navbar-nav\">\n",
    "            <li class=\"active\"><a href=\"#2.1\" style=\"color: #333; text-decoration: none\">2.1 1D Array</a></li>\n",
    "            <li><a href=\"#2.2\" style=\"color: #333; text-decoration: none\">2.2 2D Array</a></li>\n",
    "            <li><a href=\"#2.3\" style=\"color: #333; text-decoration: none\">2.3 Matrix</a></li>           \n",
    "        </ul>\n",
    "    </div>\n",
    "    </div>\n",
    "</nav>"
   ]
  },
  {
   "cell_type": "markdown",
   "metadata": {},
   "source": [
    "<a id=\"2.1\"></a>"
   ]
  },
  {
   "cell_type": "markdown",
   "metadata": {},
   "source": [
    "<span class=\"text\"><h3>2.1 1D Array</h3></span>\n",
    "<div class=\"alert alert-success\">\n",
    "<p style=\"font-size:120%\"><b>Understand:</b></p> \n",
    "<ol>\n",
    "    <li>Transform Python list to Numpy array</li>\n",
    "    <li>Indexing and Slicing</li>\n",
    "    <li>Basic operations</li>\n",
    "    <li>Some useful functions</li>    \n",
    "</ol>\n",
    "<div class=\"btn-group\"> \n",
    "    <a href=\"https://docs.scipy.org/doc/numpy-1.15.0/reference/generated/numpy.array.html\" target=\"_blank\" class=\"btn btn-info\" role=\"button\" style=\"text-decoration: none\">Array</a>\n",
    "</div>\n",
    "</div>"
   ]
  },
  {
   "cell_type": "markdown",
   "metadata": {},
   "source": [
    "<div class=\"alert alert-warning\">\n",
    "<b>Transform List to Numpy 1D Array</b> \n",
    "</div>"
   ]
  },
  {
   "cell_type": "code",
   "execution_count": 3,
   "metadata": {},
   "outputs": [
    {
     "name": "stdout",
     "output_type": "stream",
     "text": [
      "List a: [1, 3, 9], Type: <class 'list'>\n",
      "Array A: [1 3 9], Type: <class 'numpy.ndarray'>\n"
     ]
    }
   ],
   "source": [
    "a = [1, 3, 9]\n",
    "A = np.array(a)\n",
    "\n",
    "print(\"List a: {}, Type: {}\".format(a, type(a)))\n",
    "print(\"Array A: {}, Type: {}\".format(A, type(A)))"
   ]
  },
  {
   "cell_type": "markdown",
   "metadata": {},
   "source": [
    "<div class=\"alert alert-warning\">\n",
    "<b>Explore Attributes of Numpy Array</b> \n",
    "</div>"
   ]
  },
  {
   "cell_type": "code",
   "execution_count": 4,
   "metadata": {},
   "outputs": [
    {
     "name": "stdout",
     "output_type": "stream",
     "text": [
      "Data type of array A:  int32\n",
      "Size of array A:  3\n",
      "Dimension of array A:  1\n",
      "Shape of array A:  (3,)\n"
     ]
    }
   ],
   "source": [
    "print(\"Data type of array A: \", A.dtype)\n",
    "print(\"Size of array A: \", A.size)\n",
    "print(\"Dimension of array A: \", A.ndim)\n",
    "print(\"Shape of array A: \", A.shape)"
   ]
  },
  {
   "cell_type": "code",
   "execution_count": 5,
   "metadata": {},
   "outputs": [
    {
     "name": "stdout",
     "output_type": "stream",
     "text": [
      "Data type of array B:  float64\n",
      "Size of array B:  5\n",
      "Dimension of array B:  1\n",
      "Shape of array B:  (5,)\n"
     ]
    }
   ],
   "source": [
    "b = [1.1, 2.3, 4.5, 5.1, 7.9]\n",
    "B = np.array(b)\n",
    "\n",
    "print(\"Data type of array B: \", B.dtype)\n",
    "print(\"Size of array B: \", B.size)\n",
    "print(\"Dimension of array B: \", B.ndim)\n",
    "print(\"Shape of array B: \", B.shape)"
   ]
  },
  {
   "cell_type": "markdown",
   "metadata": {},
   "source": [
    "<div class=\"alert alert-warning\">\n",
    "<b>Indexing and Slicing</b> \n",
    "</div>"
   ]
  },
  {
   "cell_type": "code",
   "execution_count": 6,
   "metadata": {},
   "outputs": [
    {
     "name": "stdout",
     "output_type": "stream",
     "text": [
      "The 1st element of Array A is:  1\n",
      "The 3rd element of Array B is:  7.9\n",
      "Get a slice of Array B:  [2.3 4.5]\n"
     ]
    }
   ],
   "source": [
    "print(\"The 1st element of Array A is: \", A[0])\n",
    "print(\"The 3rd element of Array B is: \", B[4])\n",
    "print(\"Get a slice of Array B: \", B[1:3])"
   ]
  },
  {
   "cell_type": "markdown",
   "metadata": {},
   "source": [
    "<div class=\"alert alert-warning\">\n",
    "<b>Change Values</b> \n",
    "</div>"
   ]
  },
  {
   "cell_type": "code",
   "execution_count": 7,
   "metadata": {},
   "outputs": [
    {
     "name": "stdout",
     "output_type": "stream",
     "text": [
      "The new Array A is:  [ 1 10  9]\n"
     ]
    }
   ],
   "source": [
    "A[1] = 10\n",
    "print(\"The new Array A is: \", A)"
   ]
  },
  {
   "cell_type": "markdown",
   "metadata": {},
   "source": [
    "<div class=\"alert alert-warning\">\n",
    "<b>Basic Operations</b> \n",
    "</div>"
   ]
  },
  {
   "cell_type": "code",
   "execution_count": 8,
   "metadata": {},
   "outputs": [
    {
     "name": "stdout",
     "output_type": "stream",
     "text": [
      "u + v =  [ 3  7 11]\n",
      "2 * u =  [ 2  6 10]\n",
      "u * v =  [ 2 12 30]\n",
      "Dot product of u and v is:  44\n",
      "v + 1 =  [3 5 7]\n",
      "Mean of u is:  3.0\n",
      "Mean of v is:  4.0\n",
      "Maximum value of u is:  5\n",
      "Minimum value of v is:  2\n"
     ]
    }
   ],
   "source": [
    "u = np.array([1,3,5])\n",
    "v = np.array([2,4,6])\n",
    "z1 = u + v\n",
    "z2 = 2 * u\n",
    "z3 = u * v\n",
    "z4 = np.dot(u, v)\n",
    "z5 = v + 1\n",
    "\n",
    "print(\"u + v = \", z1)\n",
    "print(\"2 * u = \", z2)\n",
    "print(\"u * v = \", z3)\n",
    "print(\"Dot product of u and v is: \", z4)\n",
    "print(\"v + 1 = \", z5)\n",
    "print(\"Mean of u is: \", u.mean())\n",
    "print(\"Mean of v is: \", v.mean())\n",
    "print(\"Maximum value of u is: \", u.max())\n",
    "print(\"Minimum value of v is: \", v.min())"
   ]
  },
  {
   "cell_type": "markdown",
   "metadata": {},
   "source": [
    "<div class=\"alert alert-warning\">\n",
    "<b>Some Functions</b> \n",
    "</div>"
   ]
  },
  {
   "cell_type": "code",
   "execution_count": 9,
   "metadata": {},
   "outputs": [
    {
     "name": "stdout",
     "output_type": "stream",
     "text": [
      "Sin of c is:  [8.41470985e-01 1.22464680e-16 1.00000000e+00]\n",
      "[-2. -1.  0.  1.  2.]\n",
      "[ 0  1  2  3  4  5  6  7  8  9 10 11 12 13 14 15 16 17 18 19 20]\n"
     ]
    }
   ],
   "source": [
    "c = np.array([1, np.pi, np.pi/2])\n",
    "sin_c = np.sin(c)\n",
    "print(\"Sin of c is: \", sin_c)\n",
    "\n",
    "# Generate a sequence of 5 numbers from -2 to 2\n",
    "print(np.linspace(-2, 2, 5))\n",
    "\n",
    "# Generate a sequence from 1 to 20\n",
    "print(np.arange(21))"
   ]
  },
  {
   "cell_type": "markdown",
   "metadata": {},
   "source": [
    "<div class=\"alert alert-warning\">\n",
    "<b>Simple Visualization using matplotlib</b>\n",
    "<p>Do not forget installing <code>matplotlib</code> package before import it</p>\n",
    "<br>\n",
    "<div class=\"btn-group\"> \n",
    "    <a href=\"https://matplotlib.org/users/pyplot_tutorial.html\" target=\"_blank\" class=\"btn btn-danger\" role=\"button\" style=\"text-decoration: none\">matplotlib</a>\n",
    "</div>\n",
    "</div>"
   ]
  },
  {
   "cell_type": "code",
   "execution_count": 10,
   "metadata": {},
   "outputs": [
    {
     "data": {
      "text/plain": [
       "[<matplotlib.lines.Line2D at 0x17883b8aac8>]"
      ]
     },
     "execution_count": 10,
     "metadata": {},
     "output_type": "execute_result"
    },
    {
     "data": {
      "image/png": "[encoded data removed]",
      "text/plain": [
       "<Figure size 432x288 with 1 Axes>"
      ]
     },
     "metadata": {
      "needs_background": "light"
     },
     "output_type": "display_data"
    }
   ],
   "source": [
    "import matplotlib.pyplot as plt\n",
    "%matplotlib inline\n",
    "\n",
    "# Generate a sequence of 100 numbers\n",
    "x = np.linspace(0, 2*np.pi, 100)\n",
    "y = np.sin(x)\n",
    "plt.xlabel(\"x\")\n",
    "plt.ylabel(\"y\")\n",
    "plt.grid()\n",
    "plt.plot(x, y)"
   ]
  },
  {
   "cell_type": "markdown",
   "metadata": {},
   "source": [
    "<a id=\"2.2\"></a>"
   ]
  },
  {
   "cell_type": "markdown",
   "metadata": {},
   "source": [
    "<span class=\"text\"><h3>2.2 2D Array</h3></span>\n",
    "<div class=\"alert alert-success\">\n",
    "<p style=\"font-size:120%\"><b>Understand:</b></p> \n",
    "<ol>\n",
    "    <li>Transform Python compound list to Numpy array</li>\n",
    "    <li>Indexing and Slicing</li>\n",
    "    <li>Basic operations</li>\n",
    "    <li>Some useful functions</li>\n",
    "</ol>\n",
    "<div class=\"btn-group\"> \n",
    "    <a href=\"https://docs.scipy.org/doc/numpy-1.15.0/reference/generated/numpy.array.html\" target=\"_blank\" class=\"btn btn-info\" role=\"button\" style=\"text-decoration: none\">Array</a>\n",
    "</div>\n",
    "</div>"
   ]
  },
  {
   "cell_type": "markdown",
   "metadata": {},
   "source": [
    "<div class=\"alert alert-warning\">\n",
    "<b>Transform List to 2D Array</b> \n",
    "</div>"
   ]
  },
  {
   "cell_type": "code",
   "execution_count": 11,
   "metadata": {},
   "outputs": [
    {
     "name": "stdout",
     "output_type": "stream",
     "text": [
      "Size of Array A:  12\n",
      "Dimension of Array A:  2\n",
      "Shape of Array A:  (3, 4)\n"
     ]
    }
   ],
   "source": [
    "A = np.array([[10, 11, 12, 13], [20, 21, 22, 23], [30, 31, 32, 33]])\n",
    "\n",
    "print(\"Size of Array A: \", A.size)\n",
    "print(\"Dimension of Array A: \", A.ndim)\n",
    "print(\"Shape of Array A: \", A.shape)"
   ]
  },
  {
   "cell_type": "markdown",
   "metadata": {},
   "source": [
    "<div class=\"alert alert-warning\">\n",
    "<b>Indexing and Slicing</b> \n",
    "</div>"
   ]
  },
  {
   "cell_type": "code",
   "execution_count": 12,
   "metadata": {},
   "outputs": [
    {
     "name": "stdout",
     "output_type": "stream",
     "text": [
      "The element of Row 1 Column 3 is:  12\n",
      "The element of Row 3 Column 4 is:  33\n",
      "The elements of Row 2, 3 and Column 4:  [23 33]\n"
     ]
    }
   ],
   "source": [
    "print(\"The element of Row 1 Column 3 is: \", A[0][2])\n",
    "print(\"The element of Row 3 Column 4 is: \", A[2][3])\n",
    "print(\"The elements of Row 2, 3 and Column 4: \", A[1:3, 3])"
   ]
  },
  {
   "cell_type": "markdown",
   "metadata": {},
   "source": [
    "<div class=\"alert alert-warning\">\n",
    "<b>Basic Operations</b> \n",
    "</div>"
   ]
  },
  {
   "cell_type": "code",
   "execution_count": 13,
   "metadata": {},
   "outputs": [
    {
     "name": "stdout",
     "output_type": "stream",
     "text": [
      "X + Y = \n",
      " [[12 15]\n",
      " [23 26]]\n",
      "2 * X = \n",
      " [[22 24]\n",
      " [42 44]]\n",
      "X * Y = \n",
      " [[11 36]\n",
      " [42 88]]\n",
      "2D Array multiplication: XY = \n",
      " [[ 35  81]\n",
      " [ 65 151]]\n",
      "Transpose of 2D Array is: \n",
      " [[11 21]\n",
      " [12 22]]\n"
     ]
    }
   ],
   "source": [
    "X = np.array([[11, 12], [21, 22]])\n",
    "Y = np.array([[1, 3], [2, 4]])\n",
    "\n",
    "print(\"X + Y = \\n {}\".format(X + Y))\n",
    "print(\"2 * X = \\n {}\".format(2 * X))\n",
    "print(\"X * Y = \\n {}\".format(X * Y))\n",
    "print(\"2D Array multiplication: XY = \\n {}\".format(np.dot(X, Y)))\n",
    "print(\"Transpose of 2D Array is: \\n {}\".format(X.T))"
   ]
  },
  {
   "cell_type": "markdown",
   "metadata": {},
   "source": [
    "<div class=\"alert alert-warning\">\n",
    "<b>Some Functions</b> \n",
    "</div>"
   ]
  },
  {
   "cell_type": "code",
   "execution_count": 14,
   "metadata": {},
   "outputs": [
    {
     "name": "stdout",
     "output_type": "stream",
     "text": [
      "[[-0.73539642 -0.41210796  0.59479094]\n",
      " [-1.7126098  -0.18299085 -0.1943951 ]]\n",
      "[[0. 0. 0. 0.]\n",
      " [0. 0. 0. 0.]\n",
      " [0. 0. 0. 0.]]\n",
      "arr is: \n",
      " [[ 2.00645765  1.5729247   0.92786148 -0.1840656 ]\n",
      " [-0.66553764 -0.69836552 -0.80122148 -0.51328457]\n",
      " [-0.47675615  0.15404578  0.39337421 -1.8441714 ]\n",
      " [ 1.45268603  0.00959244 -1.46809757  0.20199254]\n",
      " [-1.40172521  1.07786338  0.26388845 -1.25707816]]\n",
      "-0.062480831754423725\n",
      "-0.062480831754423725\n",
      "-1.2496166350884745\n",
      "[ 1.08079456 -0.6696023  -0.44337689  0.04904336 -0.32926289]\n",
      "[ 0.91512468  2.11606078 -0.68419491 -3.59660718]\n"
     ]
    }
   ],
   "source": [
    "from numpy.random import randn\n",
    "\n",
    "# Generate a 2D Array with elements drawn from N(0, 1)\n",
    "print(randn(2 ,3))\n",
    "\n",
    "# Generate 2D Array with Dimension (3, 4) and elements all zero\n",
    "print(np.zeros((3,4)))\n",
    "\n",
    "# Functions: Mean, Sum, Max, Min, ..., etc.\n",
    "arr = randn(5, 4) # normally-distributed data\n",
    "print(\"arr is: \\n {}\".format(arr))\n",
    "print(arr.mean())\n",
    "print(np.mean(arr))\n",
    "print(arr.sum())\n",
    "print(arr.mean(axis=1))\n",
    "print(arr.sum(axis=0))"
   ]
  },
  {
   "cell_type": "markdown",
   "metadata": {},
   "source": [
    "<div class=\"alert alert-info\">\n",
    "<b>Note: </b> <p>More numpy functions can be found <a href=\"https://docs.scipy.org/doc/numpy-1.14.5/reference/\" style=\"color: red\">here</a>.</p>\n",
    "</div>"
   ]
  },
  {
   "cell_type": "markdown",
   "metadata": {},
   "source": [
    "<a id=\"2.3\"></a>"
   ]
  },
  {
   "cell_type": "markdown",
   "metadata": {},
   "source": [
    "<span class=\"text\"><h3>2.3 Matrix</h3></span>\n",
    "<div class=\"alert alert-success\">\n",
    "<p style=\"font-size:120%\"><b>Understand:</b></p> \n",
    "<ol>\n",
    "    <li>Transform list and Array to Numpy Matrix</li>\n",
    "    <li>Basic matrix operations</li>\n",
    "</ol>\n",
    "<div class=\"btn-group\"> \n",
    "    <a href=\"https://docs.scipy.org/doc/numpy-1.15.1/reference/generated/numpy.matrix.html\" target=\"_blank\" class=\"btn btn-info\" role=\"button\" style=\"text-decoration: none\">Matrix</a>\n",
    "</div>\n",
    "</div>"
   ]
  },
  {
   "cell_type": "markdown",
   "metadata": {},
   "source": [
    "<div class=\"alert alert-warning\">\n",
    "<b>Transform List and Array to Matrix</b> \n",
    "</div>"
   ]
  },
  {
   "cell_type": "code",
   "execution_count": 15,
   "metadata": {},
   "outputs": [
    {
     "name": "stdout",
     "output_type": "stream",
     "text": [
      "List:  [[4, 7], [2, 6]]\n",
      "Array: \n",
      " [[4 7]\n",
      " [2 6]]\n",
      "Matrix: \n",
      " [[4 7]\n",
      " [2 6]]\n"
     ]
    }
   ],
   "source": [
    "a = [[4,7],[2,6]]\n",
    "A = np.array(a)\n",
    "mat_A = np.mat(A)\n",
    "\n",
    "print(\"List: \", a)\n",
    "print(\"Array: \\n {}\".format(A))\n",
    "print(\"Matrix: \\n {}\".format(mat_A))"
   ]
  },
  {
   "cell_type": "markdown",
   "metadata": {},
   "source": [
    "<div class=\"alert alert-warning\">\n",
    "<b>Basic functions of Matrix</b> \n",
    "</div>"
   ]
  },
  {
   "cell_type": "code",
   "execution_count": 16,
   "metadata": {},
   "outputs": [
    {
     "name": "stdout",
     "output_type": "stream",
     "text": [
      "Transpose Matrix: \n",
      " [[4 2]\n",
      " [7 6]]\n",
      "Inverse Matrix: \n",
      " [[ 0.6 -0.7]\n",
      " [-0.2  0.4]]\n",
      "Inverse Matrix: \n",
      " [[ 0.6 -0.7]\n",
      " [-0.2  0.4]]\n"
     ]
    }
   ],
   "source": [
    "print(\"Transpose Matrix: \\n {}\".format(mat_A.T))\n",
    "print(\"Inverse Matrix: \\n {}\".format(mat_A.I))\n",
    "print(\"Inverse Matrix: \\n {}\".format(np.linalg.inv(mat_A)))"
   ]
  },
  {
   "cell_type": "markdown",
   "metadata": {},
   "source": [
    "<div class=\"alert alert-info\">\n",
    "<b>Note: </b> <p>More about numpy can be found <a href=\"https://docs.scipy.org/doc/numpy-1.15.0/reference/\" style=\"color: red\">here</a>.</p>\n",
    "</div>"
   ]
  },
  {
   "cell_type": "markdown",
   "metadata": {},
   "source": [
    "<a id=\"3\"></a> "
   ]
  },
  {
   "cell_type": "markdown",
   "metadata": {},
   "source": [
    "<span class=\"text\"><h2>3 Pandas</h2></span>\n",
    "<br>\n",
    "<nav class=\"navbar navbar-default\" role=\"navigation\">\n",
    "    <div class=\"container-fluid\"> \n",
    "    <div class=\"navbar-header\">\n",
    "        <button type=\"button\" class=\"navbar-toggle\" data-toggle=\"collapse\"\n",
    "                data-target=\"#example-navbar-collapse\">\n",
    "            <span class=\"sr-only\">Navigator</span>\n",
    "            <span class=\"icon-bar\"></span>\n",
    "            <span class=\"icon-bar\"></span>\n",
    "            <span class=\"icon-bar\"></span>\n",
    "        </button>\n",
    "        <a class=\"navbar-brand\" style=\"color: #333;\"><b>Navigation:</b></a>\n",
    "    </div>\n",
    "    <div class=\"collapse navbar-collapse\" id=\"example-navbar-collapse\">\n",
    "        <ul class=\"nav navbar-nav\">\n",
    "            <li class=\"active\"><a href=\"#3.1\" style=\"color: #333; text-decoration: none\">3.1 Data Structure: Series and DataFrame</a></li>\n",
    "            <li><a href=\"#3.2\" style=\"color: #333; text-decoration: none\">3.2 Import dataset into pandas</a></li>\n",
    "            <li><a href=\"#3.3\" style=\"color: #333; text-decoration: none\">3.3 Data Transformation</a></li>           \n",
    "        </ul>\n",
    "    </div>\n",
    "    </div>\n",
    "</nav>\n",
    "<div class=\"alert alert-success\">\n",
    "<p style=\"font-size:120%\"><b>Understand:</b></p> \n",
    "<ol>\n",
    "    <li>Basic data structures in pandas</li>\n",
    "    <li>Loading dataset and transform to pandas dataframe</li>\n",
    "    <li>Simple data cleaning</li>\n",
    "    <li>Summary statistics</li>\n",
    "    <li>Descriptive analysis</li>\n",
    "</ol>\n",
    "<div class=\"btn-group\"> \n",
    "    <a href=\"https://pandas.pydata.org/pandas-docs/stable/dsintro.html\" target=\"_blank\" class=\"btn btn-info\" role=\"button\" style=\"text-decoration: none\">Working with Data in Pandas</a>\n",
    "</div>\n",
    "</div>"
   ]
  },
  {
   "cell_type": "markdown",
   "metadata": {},
   "source": [
    "<a id=\"3.1\"></a>"
   ]
  },
  {
   "cell_type": "markdown",
   "metadata": {},
   "source": [
    "<span class=\"text\"><h3>3.1 Data Structure: Series and DataFrame</h3></span>\n",
    "<div class=\"alert alert-success\">\n",
    "<p style=\"font-size:100%\"><b>You can refer to:</b></p>\n",
    "<br>\n",
    "<div class=\"btn-group\"> \n",
    "    <a href=\"https://pandas.pydata.org/pandas-docs/version/0.23.4/generated/pandas.Series.html\" target=\"_blank\" class=\"btn btn-info\" role=\"button\" style=\"text-decoration: none\">Series</a>\n",
    "    <a href=\"https://pandas.pydata.org/pandas-docs/version/0.23.4/generated/pandas.DataFrame.html\" target=\"_blank\" class=\"btn btn-warning\" role=\"button\" style=\"text-decoration: none\">DataFrame</a>\n",
    "</div>\n",
    "</div>"
   ]
  },
  {
   "cell_type": "markdown",
   "metadata": {},
   "source": [
    "<div class=\"alert alert-warning\">\n",
    "<b>Basic data structure: Series</b> \n",
    "</div>"
   ]
  },
  {
   "cell_type": "code",
   "execution_count": 17,
   "metadata": {},
   "outputs": [
    {
     "name": "stdout",
     "output_type": "stream",
     "text": [
      "Transform List into Series: \n",
      " 0    1.1\n",
      "1    2.2\n",
      "2    3.3\n",
      "3    4.4\n",
      "dtype: float64\n",
      "Values in the series:  [1.1 2.2 3.3 4.4]\n",
      "Type of values in the series:  <class 'numpy.ndarray'>\n",
      "Index of series:  RangeIndex(start=0, stop=4, step=1)\n",
      "Transform dictionary into Series: \n",
      " one      1\n",
      "two      2\n",
      "three    3\n",
      "dtype: int64\n"
     ]
    }
   ],
   "source": [
    "a = [1.1, 2.2, 3.3, 4.4]\n",
    "a_series = pd.Series(a)\n",
    "\n",
    "print(\"Transform List into Series: \\n {}\".format(a_series))\n",
    "print(\"Values in the series: \", a_series.values)\n",
    "print(\"Type of values in the series: \", type(a_series.values))\n",
    "print(\"Index of series: \", a_series.index)\n",
    "\n",
    "b = {'one':1, 'two':2, 'three':3}\n",
    "print(\"Transform dictionary into Series: \\n {}\".format(pd.Series(b)))"
   ]
  },
  {
   "cell_type": "markdown",
   "metadata": {},
   "source": [
    "<div class=\"alert alert-warning\">\n",
    "<b>Indexing and Slicing</b> \n",
    "</div>"
   ]
  },
  {
   "cell_type": "code",
   "execution_count": 18,
   "metadata": {},
   "outputs": [
    {
     "name": "stdout",
     "output_type": "stream",
     "text": [
      "Index of series is:  Index(['a', 'b', 'c', 'd'], dtype='object')\n",
      "Index b is:  2.2\n",
      "Index a, c, d is:  [1.1 5.5 4.4]\n",
      "Values which are larger than 3:  [5.5 4.4]\n",
      "Whether series has index b:  True\n",
      "Whether series has index f:  False\n"
     ]
    }
   ],
   "source": [
    "a_series = pd.Series(a, index=[\"a\",\"b\",\"c\",\"d\"])\n",
    "print(\"Index of series is: \", a_series.index)\n",
    "print(\"Index b is: \", a_series[\"b\"])\n",
    "\n",
    "a_series['c'] = 5.5\n",
    "print(\"Index a, c, d is: \", a_series[['a','c','d']].values)\n",
    "print(\"Values which are larger than 3: \", a_series[a_series>3].values)\n",
    "print(\"Whether series has index b: \", 'b' in a_series)\n",
    "print(\"Whether series has index f: \", 'f' in a_series)"
   ]
  },
  {
   "cell_type": "markdown",
   "metadata": {},
   "source": [
    "<div class=\"alert alert-warning\">\n",
    "<b>Some Useful Functions and Attributes</b> \n",
    "</div>"
   ]
  },
  {
   "cell_type": "code",
   "execution_count": 19,
   "metadata": {},
   "outputs": [
    {
     "name": "stdout",
     "output_type": "stream",
     "text": [
      "one      1.0\n",
      "two      2.0\n",
      "three    3.0\n",
      "five     NaN\n",
      "dtype: float64\n",
      "Which element is null value:  one      False\n",
      "two      False\n",
      "three    False\n",
      "five      True\n",
      "dtype: bool\n",
      "Which element is not null:  one       True\n",
      "two       True\n",
      "three     True\n",
      "five     False\n",
      "dtype: bool\n",
      "character value\n",
      "one      1.0\n",
      "two      2.0\n",
      "three    3.0\n",
      "five     NaN\n",
      "Name: numerical value, dtype: float64\n"
     ]
    }
   ],
   "source": [
    "c = pd.Series(b, index=['one','two','three','five'])\n",
    "print(c)\n",
    "print(\"Which element is null value: \", c.isnull())\n",
    "print(\"Which element is not null: \", c.notnull())\n",
    "\n",
    "# Naming the Series and its index\n",
    "c.name = 'numerical value'\n",
    "c.index.name = 'character value'\n",
    "print(c)"
   ]
  },
  {
   "cell_type": "markdown",
   "metadata": {},
   "source": [
    "<div class=\"alert alert-warning\">\n",
    "<b>Basic data structure: DataFrame</b> \n",
    "</div>"
   ]
  },
  {
   "cell_type": "code",
   "execution_count": 20,
   "metadata": {},
   "outputs": [
    {
     "name": "stdout",
     "output_type": "stream",
     "text": [
      "    state  year  pop\n",
      "0    Ohio  2000  1.5\n",
      "1    Ohio  2001  1.7\n",
      "2    Ohio  2002  3.6\n",
      "3  Nevada  2001  2.4\n",
      "4  Nevada  2002  2.9\n",
      "Shape of DataFrame is:  (5, 3)\n",
      "Change the order of variables: \n",
      "   year   state  pop\n",
      "0  2000    Ohio  1.5\n",
      "1  2001    Ohio  1.7\n",
      "2  2002    Ohio  3.6\n",
      "3  2001  Nevada  2.4\n",
      "4  2002  Nevada  2.9\n",
      "Change the index of variables: \n",
      "   year   state  pop new_variable\n",
      "1  2000    Ohio  1.5          NaN\n",
      "2  2001    Ohio  1.7          NaN\n",
      "3  2002    Ohio  3.6          NaN\n",
      "4  2001  Nevada  2.4          NaN\n",
      "5  2002  Nevada  2.9          NaN\n"
     ]
    }
   ],
   "source": [
    "# Very similar to R's data.frame\n",
    "data = {'state': ['Ohio', 'Ohio', 'Ohio', 'Nevada', 'Nevada'],\n",
    "        'year': [2000, 2001, 2002, 2001, 2002],\n",
    "        'pop': [1.5, 1.7, 3.6, 2.4, 2.9]}\n",
    "frame = pd.DataFrame(data)\n",
    "print(frame)\n",
    "print(\"Shape of DataFrame is: \", frame.shape)\n",
    "print(\"Change the order of variables: \")\n",
    "print(pd.DataFrame(data, columns=['year', 'state', 'pop']))\n",
    "print(\"Change the index of variables: \")\n",
    "print(pd.DataFrame(data, columns=['year', 'state', 'pop','new_variable'], index=['1','2','3','4','5']))"
   ]
  },
  {
   "cell_type": "markdown",
   "metadata": {},
   "source": [
    "<div class=\"alert alert-warning\">\n",
    "<b>Some attributes of DataFrame</b> \n",
    "</div>"
   ]
  },
  {
   "cell_type": "code",
   "execution_count": 21,
   "metadata": {},
   "outputs": [
    {
     "name": "stdout",
     "output_type": "stream",
     "text": [
      "Columns of dataframe:  Index(['state', 'year', 'pop'], dtype='object')\n",
      "Get variable year from dataframe: \n",
      " 0    2000\n",
      "1    2001\n",
      "2    2002\n",
      "3    2001\n",
      "4    2002\n",
      "Name: year, dtype: int64\n",
      "Another way to get variable year from dataframe: \n",
      " 0    2000\n",
      "1    2001\n",
      "2    2002\n",
      "3    2001\n",
      "4    2002\n",
      "Name: year, dtype: int64\n",
      "Get multiple variables: \n",
      "    year  pop\n",
      "0  2000  1.5\n",
      "1  2001  1.7\n",
      "2  2002  3.6\n",
      "3  2001  2.4\n",
      "4  2002  2.9\n",
      "Get first 3 rows, first 2 columns of DataFrame: \n",
      "    year state\n",
      "0  2000  Ohio\n",
      "1  2001  Ohio\n",
      "2  2002  Ohio\n",
      "Get 1st row of DataFrame: \n",
      " year            2000\n",
      "state           Ohio\n",
      "pop              1.5\n",
      "new_variable     NaN\n",
      "Name: 0, dtype: object\n",
      "Get 3rd row, 3rd column of DataFrame: \n",
      " 3.6\n"
     ]
    }
   ],
   "source": [
    "print(\"Columns of dataframe: \", frame.columns)\n",
    "print(\"Get variable year from dataframe: \\n {}\".format(frame['year']))\n",
    "print(\"Another way to get variable year from dataframe: \\n {}\".format(frame.year))\n",
    "print(\"Get multiple variables: \\n {}\".format(frame[['year','pop']]))\n",
    "\n",
    "frame2 = pd.DataFrame(data, columns=['year', 'state', 'pop','new_variable'])\n",
    "print(\"Get first 3 rows, first 2 columns of DataFrame: \\n {}\".format(frame2.iloc[:3, :2]))\n",
    "print(\"Get 1st row of DataFrame: \\n {}\".format(frame2.iloc[0]))\n",
    "print(\"Get 3rd row, 3rd column of DataFrame: \\n {}\".format(frame2.iloc[2, 2]))"
   ]
  },
  {
   "cell_type": "markdown",
   "metadata": {},
   "source": [
    "<div class=\"alert alert-warning\">\n",
    "<b>Row-wise and Column-wise operations</b> \n",
    "</div>"
   ]
  },
  {
   "cell_type": "code",
   "execution_count": 22,
   "metadata": {},
   "outputs": [
    {
     "name": "stdout",
     "output_type": "stream",
     "text": [
      "   year   state  pop  new_variable\n",
      "0  2000    Ohio  1.5            15\n",
      "1  2001    Ohio  1.7            15\n",
      "2  2002    Ohio  3.6            15\n",
      "3  2001  Nevada  2.4            15\n",
      "4  2002  Nevada  2.9            15\n",
      "   year   state  pop  new_variable\n",
      "0  2000    Ohio  1.5          17.0\n",
      "1  2001    Ohio  1.7           NaN\n",
      "2  2002    Ohio  3.6          19.0\n",
      "3  2001  Nevada  2.4           NaN\n",
      "4  2002  Nevada  2.9          21.0\n",
      "   year   state   pop  new_variable\n",
      "0  2000    Ohio   1.5          17.0\n",
      "1  2001    Ohio   1.7           NaN\n",
      "2  2002    Ohio  10.0          19.0\n",
      "3  2001  Nevada   2.4           NaN\n",
      "4  2002  Nevada   2.9          21.0\n",
      "Drop columns: \n",
      "    year   state  pop\n",
      "0  2000    Ohio  1.5\n",
      "1  2001    Ohio  1.7\n",
      "2  2002    Ohio  3.6\n",
      "3  2001  Nevada  2.4\n",
      "4  2002  Nevada  2.9\n",
      "Another way to drop columns: \n",
      "Delete 4th row: \n",
      "    year   state  pop new_variable\n",
      "0  2000    Ohio  1.5          NaN\n",
      "1  2001    Ohio  1.7          NaN\n",
      "2  2002    Ohio  3.6          NaN\n",
      "4  2002  Nevada  2.9          NaN\n"
     ]
    }
   ],
   "source": [
    "# Modify values of variables\n",
    "frame2.new_variable = 15\n",
    "print(frame2)\n",
    "\n",
    "frame2['new_variable'] = pd.Series([17, 19, 21], index=[0,2,4])\n",
    "print(frame2)\n",
    "\n",
    "frame2.iloc[2, 2] = 10\n",
    "print(frame2)\n",
    "\n",
    "# Delete columns\n",
    "frame3 = pd.DataFrame(data, columns=['year', 'state', 'pop','new_variable'])\n",
    "del frame3['new_variable']\n",
    "print(\"Drop columns: \\n {}\".format(frame3))\n",
    "\n",
    "# Or\n",
    "frame3 = pd.DataFrame(data, columns=['year', 'state', 'pop','new_variable'])\n",
    "print(\"Another way to drop columns: \".format(frame3.drop(['new_variable'], axis=1)))\n",
    "\n",
    "# Delete rows\n",
    "print(\"Delete 4th row: \\n {}\".format(frame3.drop([3])))"
   ]
  },
  {
   "cell_type": "markdown",
   "metadata": {},
   "source": [
    "<div class=\"alert alert-warning\">\n",
    "<b>Important operations and functions</b> \n",
    "</div>"
   ]
  },
  {
   "cell_type": "code",
   "execution_count": 23,
   "metadata": {},
   "outputs": [
    {
     "name": "stdout",
     "output_type": "stream",
     "text": [
      "frame4 is: \n",
      "                a         b         c\n",
      "Utah    0.586135 -1.862443  0.898106\n",
      "Ohio    0.428989  0.191533 -1.544040\n",
      "Texas  -2.075544 -1.362255  0.619844\n",
      "Oregon  0.063928 -1.390755 -0.741238\n",
      "Transpose of DataFrame: \n",
      "           0     1     2       3       4\n",
      "state  Ohio  Ohio  Ohio  Nevada  Nevada\n",
      "year   2000  2001  2002    2001    2002\n",
      "pop     1.5   1.7   3.6     2.4     2.9\n",
      "The range of each column is: \n",
      " a    2.661678\n",
      "b    2.053976\n",
      "c    2.442145\n",
      "dtype: float64\n",
      "Keep 2 decimals for each element: \n",
      "             a      b      c\n",
      "Utah     0.59  -1.86   0.90\n",
      "Ohio     0.43   0.19  -1.54\n",
      "Texas   -2.08  -1.36   0.62\n",
      "Oregon   0.06  -1.39  -0.74\n",
      "Keep 3 decimals for column c: \n",
      " Utah       0.898\n",
      "Ohio      -1.544\n",
      "Texas      0.620\n",
      "Oregon    -0.741\n",
      "Name: c, dtype: object\n"
     ]
    }
   ],
   "source": [
    "frame4 = pd.DataFrame(np.random.randn(4, 3), columns=list('abc'), index=['Utah', 'Ohio', 'Texas', 'Oregon'])\n",
    "print(\"frame4 is: \\n {}\".format(frame4))\n",
    "\n",
    "# Transpose of DataFrame\n",
    "print(\"Transpose of DataFrame: \\n {}\".format(frame.T))\n",
    "\n",
    "# Apply function: .apply()  .applymap()  .map()\n",
    "# Superpowerful !!!\n",
    "print(\"The range of each column is: \\n {}\".format(frame4.apply(lambda x: x.max()-x.min(), axis=0)))\n",
    "print(\"Keep 2 decimals for each element: \\n {}\".format(frame4.applymap(lambda x: \"%.2f\" % x)))\n",
    "print(\"Keep 3 decimals for column c: \\n {}\".format(frame4['c'].map(lambda x: \"%.3f\" % x)))"
   ]
  },
  {
   "cell_type": "markdown",
   "metadata": {},
   "source": [
    "<div class=\"alert alert-warning\">\n",
    "<b>Sort dataframe</b> \n",
    "</div>"
   ]
  },
  {
   "cell_type": "code",
   "execution_count": 24,
   "metadata": {},
   "outputs": [
    {
     "name": "stdout",
     "output_type": "stream",
     "text": [
      "               a         b         c\n",
      "Utah    0.335167  1.017934 -2.326809\n",
      "Ohio   -1.026313  1.913373  0.350746\n",
      "Texas  -1.511893 -1.072294 -0.370937\n",
      "Oregon -0.669288 -0.290990  0.486286\n",
      "Sort dataframe by column b and a: \n",
      "                a         b         c\n",
      "Texas  -1.511893 -1.072294 -0.370937\n",
      "Oregon -0.669288 -0.290990  0.486286\n",
      "Utah    0.335167  1.017934 -2.326809\n",
      "Ohio   -1.026313  1.913373  0.350746\n"
     ]
    }
   ],
   "source": [
    "frame4 = pd.DataFrame(np.random.randn(4, 3), columns=list('abc'), index=['Utah', 'Ohio', 'Texas', 'Oregon'])\n",
    "print(frame4)\n",
    "print(\"Sort dataframe by column b and a: \\n {}\".format(frame4.sort_values(by=['b', 'a'])))"
   ]
  },
  {
   "cell_type": "markdown",
   "metadata": {},
   "source": [
    "<div class=\"alert alert-warning\">\n",
    "<b>Unique values and value counts</b> \n",
    "</div>"
   ]
  },
  {
   "cell_type": "code",
   "execution_count": 25,
   "metadata": {},
   "outputs": [
    {
     "name": "stdout",
     "output_type": "stream",
     "text": [
      "['c' 'a' 'd' 'b']\n",
      "a    3\n",
      "c    3\n",
      "b    2\n",
      "d    1\n",
      "dtype: int64\n"
     ]
    }
   ],
   "source": [
    "obj = pd.Series(['c', 'a', 'd', 'a', 'a', 'b', 'b', 'c', 'c'])\n",
    "print(obj.unique())\n",
    "print(obj.value_counts())"
   ]
  },
  {
   "cell_type": "markdown",
   "metadata": {},
   "source": [
    "<div class=\"alert alert-warning\">\n",
    "<b>Handling missing data</b> \n",
    "</div>"
   ]
  },
  {
   "cell_type": "code",
   "execution_count": 26,
   "metadata": {},
   "outputs": [
    {
     "name": "stdout",
     "output_type": "stream",
     "text": [
      "     0    1    2\n",
      "0  1.0  6.5  3.0\n",
      "1  1.0  NaN  NaN\n",
      "2  NaN  3.0  4.0\n",
      "3  NaN  6.5  3.0\n",
      "Whether dataframe has missing values: \n",
      "        0      1      2\n",
      "0  False  False  False\n",
      "1  False   True   True\n",
      "2   True  False  False\n",
      "3   True  False  False\n",
      "After dropping missing values: \n",
      "      0    1    2\n",
      "0  1.0  6.5  3.0\n",
      "After filling missing values: \n",
      "      0    1    2\n",
      "0  1.0  6.5  3.0\n",
      "1  1.0  0.0  0.0\n",
      "2  0.0  3.0  4.0\n",
      "3  0.0  6.5  3.0\n"
     ]
    }
   ],
   "source": [
    "data = pd.DataFrame([[1., 6.5, 3.], [1., np.nan, np.nan], [np.nan, 3, 4], [np.nan, 6.5, 3.]])\n",
    "print(data)\n",
    "\n",
    "# Find missing data\n",
    "print(\"Whether dataframe has missing values: \\n {}\".format(data.isnull()))\n",
    "\n",
    "# Drop missing values\n",
    "clean = data.dropna()\n",
    "print(\"After dropping missing values: \\n {}\".format(clean))\n",
    "\n",
    "# Fillin missing values\n",
    "fill = data.fillna(0)\n",
    "print(\"After filling missing values: \\n {}\".format(fill))"
   ]
  },
  {
   "cell_type": "markdown",
   "metadata": {},
   "source": [
    "<div class=\"alert alert-warning\">\n",
    "<b>Hierarchical Indexing</b> \n",
    "</div>"
   ]
  },
  {
   "cell_type": "code",
   "execution_count": 27,
   "metadata": {},
   "outputs": [
    {
     "name": "stdout",
     "output_type": "stream",
     "text": [
      "a  1    1.905454\n",
      "   2   -0.065169\n",
      "   3    2.129909\n",
      "b  1    1.511892\n",
      "   2   -1.584688\n",
      "   3   -1.097123\n",
      "c  1   -1.067137\n",
      "   2   -1.379856\n",
      "d  2    0.896743\n",
      "   3    0.674487\n",
      "dtype: float64\n",
      "Index b and c: \n",
      " b  1    1.511892\n",
      "   2   -1.584688\n",
      "   3   -1.097123\n",
      "c  1   -1.067137\n",
      "   2   -1.379856\n",
      "dtype: float64\n",
      "Unstack the hierarchical indexing data: \n",
      "           1         2         3\n",
      "a  1.905454 -0.065169  2.129909\n",
      "b  1.511892 -1.584688 -1.097123\n",
      "c -1.067137 -1.379856       NaN\n",
      "d       NaN  0.896743  0.674487\n",
      "Stack dataframe into hierarchical indexing data: \n",
      " Utah    a    0.335167\n",
      "        b    1.017934\n",
      "        c   -2.326809\n",
      "Ohio    a   -1.026313\n",
      "        b    1.913373\n",
      "        c    0.350746\n",
      "Texas   a   -1.511893\n",
      "        b   -1.072294\n",
      "        c   -0.370937\n",
      "Oregon  a   -0.669288\n",
      "        b   -0.290990\n",
      "        c    0.486286\n",
      "dtype: float64\n"
     ]
    }
   ],
   "source": [
    "data = pd.Series(np.random.randn(10), index=[['a', 'a', 'a', 'b', 'b', 'b', 'c', 'c', 'd', 'd'], [1, 2, 3, 1, 2, 3, 1, 2, 2, 3]])\n",
    "print(data)\n",
    "print(\"Index b and c: \\n {}\".format(data['b':'c']))\n",
    "print(\"Unstack the hierarchical indexing data: \\n {}\".format(data.unstack()))\n",
    "print(\"Stack dataframe into hierarchical indexing data: \\n {}\".format(frame4.stack()))"
   ]
  },
  {
   "cell_type": "markdown",
   "metadata": {},
   "source": [
    "<a id=\"3.2\"></a>"
   ]
  },
  {
   "cell_type": "markdown",
   "metadata": {},
   "source": [
    "<span class=\"text\"><h3>3.2 Import dataset into pandas</h3></span>\n",
    "<div class=\"alert alert-success\">\n",
    "<p><b>Data Source: </b><a href=\"https://archive.ics.uci.edu/ml/datasets/Iris\" style=\"color: red\">Iris Data</a></p>\n",
    "</div>"
   ]
  },
  {
   "cell_type": "markdown",
   "metadata": {},
   "source": [
    "<div class=\"alert alert-warning\">\n",
    "<b>Load dataset <code>*.txt</code> or <code>*.csv</code> into python</b> \n",
    "</div>"
   ]
  },
  {
   "cell_type": "code",
   "execution_count": 28,
   "metadata": {},
   "outputs": [
    {
     "data": {
      "text/html": [
       "<div>\n",
       "<style scoped>\n",
       "    .dataframe tbody tr th:only-of-type {\n",
       "        vertical-align: middle;\n",
       "    }\n",
       "\n",
       "    .dataframe tbody tr th {\n",
       "        vertical-align: top;\n",
       "    }\n",
       "\n",
       "    .dataframe thead th {\n",
       "        text-align: right;\n",
       "    }\n",
       "</style>\n",
       "<table border=\"1\" class=\"dataframe\">\n",
       "  <thead>\n",
       "    <tr style=\"text-align: right;\">\n",
       "      <th></th>\n",
       "      <th>0</th>\n",
       "      <th>1</th>\n",
       "      <th>2</th>\n",
       "      <th>3</th>\n",
       "      <th>4</th>\n",
       "    </tr>\n",
       "  </thead>\n",
       "  <tbody>\n",
       "    <tr>\n",
       "      <th>0</th>\n",
       "      <td>5.1</td>\n",
       "      <td>3.5</td>\n",
       "      <td>1.4</td>\n",
       "      <td>0.2</td>\n",
       "      <td>Iris-setosa</td>\n",
       "    </tr>\n",
       "    <tr>\n",
       "      <th>1</th>\n",
       "      <td>4.9</td>\n",
       "      <td>3.0</td>\n",
       "      <td>1.4</td>\n",
       "      <td>0.2</td>\n",
       "      <td>Iris-setosa</td>\n",
       "    </tr>\n",
       "    <tr>\n",
       "      <th>2</th>\n",
       "      <td>4.7</td>\n",
       "      <td>3.2</td>\n",
       "      <td>1.3</td>\n",
       "      <td>0.2</td>\n",
       "      <td>Iris-setosa</td>\n",
       "    </tr>\n",
       "    <tr>\n",
       "      <th>3</th>\n",
       "      <td>4.6</td>\n",
       "      <td>3.1</td>\n",
       "      <td>1.5</td>\n",
       "      <td>0.2</td>\n",
       "      <td>Iris-setosa</td>\n",
       "    </tr>\n",
       "    <tr>\n",
       "      <th>4</th>\n",
       "      <td>5.0</td>\n",
       "      <td>3.6</td>\n",
       "      <td>1.4</td>\n",
       "      <td>0.2</td>\n",
       "      <td>Iris-setosa</td>\n",
       "    </tr>\n",
       "    <tr>\n",
       "      <th>5</th>\n",
       "      <td>5.4</td>\n",
       "      <td>3.9</td>\n",
       "      <td>1.7</td>\n",
       "      <td>0.4</td>\n",
       "      <td>Iris-setosa</td>\n",
       "    </tr>\n",
       "    <tr>\n",
       "      <th>6</th>\n",
       "      <td>4.6</td>\n",
       "      <td>3.4</td>\n",
       "      <td>1.4</td>\n",
       "      <td>0.3</td>\n",
       "      <td>Iris-setosa</td>\n",
       "    </tr>\n",
       "    <tr>\n",
       "      <th>7</th>\n",
       "      <td>5.0</td>\n",
       "      <td>3.4</td>\n",
       "      <td>1.5</td>\n",
       "      <td>0.2</td>\n",
       "      <td>Iris-setosa</td>\n",
       "    </tr>\n",
       "    <tr>\n",
       "      <th>8</th>\n",
       "      <td>4.4</td>\n",
       "      <td>2.9</td>\n",
       "      <td>1.4</td>\n",
       "      <td>0.2</td>\n",
       "      <td>Iris-setosa</td>\n",
       "    </tr>\n",
       "    <tr>\n",
       "      <th>9</th>\n",
       "      <td>4.9</td>\n",
       "      <td>3.1</td>\n",
       "      <td>1.5</td>\n",
       "      <td>0.1</td>\n",
       "      <td>Iris-setosa</td>\n",
       "    </tr>\n",
       "  </tbody>\n",
       "</table>\n",
       "</div>"
      ],
      "text/plain": [
       "     0    1    2    3            4\n",
       "0  5.1  3.5  1.4  0.2  Iris-setosa\n",
       "1  4.9  3.0  1.4  0.2  Iris-setosa\n",
       "2  4.7  3.2  1.3  0.2  Iris-setosa\n",
       "3  4.6  3.1  1.5  0.2  Iris-setosa\n",
       "4  5.0  3.6  1.4  0.2  Iris-setosa\n",
       "5  5.4  3.9  1.7  0.4  Iris-setosa\n",
       "6  4.6  3.4  1.4  0.3  Iris-setosa\n",
       "7  5.0  3.4  1.5  0.2  Iris-setosa\n",
       "8  4.4  2.9  1.4  0.2  Iris-setosa\n",
       "9  4.9  3.1  1.5  0.1  Iris-setosa"
      ]
     },
     "execution_count": 28,
     "metadata": {},
     "output_type": "execute_result"
    }
   ],
   "source": [
    "data = pd.read_csv('https://archive.ics.uci.edu/ml/machine-learning-databases/iris/iris.data', header=None)\n",
    "colnames = ['sepal_length','sepal_width','petal_length','petal_width','class']\n",
    "data.iloc[:10,]"
   ]
  },
  {
   "cell_type": "markdown",
   "metadata": {},
   "source": [
    "<div class=\"alert alert-warning\">\n",
    "<b>Explore the data</b> \n",
    "</div>"
   ]
  },
  {
   "cell_type": "code",
   "execution_count": 29,
   "metadata": {},
   "outputs": [
    {
     "data": {
      "text/html": [
       "<div>\n",
       "<style scoped>\n",
       "    .dataframe tbody tr th:only-of-type {\n",
       "        vertical-align: middle;\n",
       "    }\n",
       "\n",
       "    .dataframe tbody tr th {\n",
       "        vertical-align: top;\n",
       "    }\n",
       "\n",
       "    .dataframe thead th {\n",
       "        text-align: right;\n",
       "    }\n",
       "</style>\n",
       "<table border=\"1\" class=\"dataframe\">\n",
       "  <thead>\n",
       "    <tr style=\"text-align: right;\">\n",
       "      <th></th>\n",
       "      <th>sepal_length</th>\n",
       "      <th>sepal_width</th>\n",
       "      <th>petal_length</th>\n",
       "      <th>petal_width</th>\n",
       "      <th>class</th>\n",
       "    </tr>\n",
       "  </thead>\n",
       "  <tbody>\n",
       "    <tr>\n",
       "      <th>0</th>\n",
       "      <td>5.1</td>\n",
       "      <td>3.5</td>\n",
       "      <td>1.4</td>\n",
       "      <td>0.2</td>\n",
       "      <td>Iris-setosa</td>\n",
       "    </tr>\n",
       "    <tr>\n",
       "      <th>1</th>\n",
       "      <td>4.9</td>\n",
       "      <td>3.0</td>\n",
       "      <td>1.4</td>\n",
       "      <td>0.2</td>\n",
       "      <td>Iris-setosa</td>\n",
       "    </tr>\n",
       "    <tr>\n",
       "      <th>2</th>\n",
       "      <td>4.7</td>\n",
       "      <td>3.2</td>\n",
       "      <td>1.3</td>\n",
       "      <td>0.2</td>\n",
       "      <td>Iris-setosa</td>\n",
       "    </tr>\n",
       "    <tr>\n",
       "      <th>3</th>\n",
       "      <td>4.6</td>\n",
       "      <td>3.1</td>\n",
       "      <td>1.5</td>\n",
       "      <td>0.2</td>\n",
       "      <td>Iris-setosa</td>\n",
       "    </tr>\n",
       "    <tr>\n",
       "      <th>4</th>\n",
       "      <td>5.0</td>\n",
       "      <td>3.6</td>\n",
       "      <td>1.4</td>\n",
       "      <td>0.2</td>\n",
       "      <td>Iris-setosa</td>\n",
       "    </tr>\n",
       "    <tr>\n",
       "      <th>5</th>\n",
       "      <td>5.4</td>\n",
       "      <td>3.9</td>\n",
       "      <td>1.7</td>\n",
       "      <td>0.4</td>\n",
       "      <td>Iris-setosa</td>\n",
       "    </tr>\n",
       "    <tr>\n",
       "      <th>6</th>\n",
       "      <td>4.6</td>\n",
       "      <td>3.4</td>\n",
       "      <td>1.4</td>\n",
       "      <td>0.3</td>\n",
       "      <td>Iris-setosa</td>\n",
       "    </tr>\n",
       "    <tr>\n",
       "      <th>7</th>\n",
       "      <td>5.0</td>\n",
       "      <td>3.4</td>\n",
       "      <td>1.5</td>\n",
       "      <td>0.2</td>\n",
       "      <td>Iris-setosa</td>\n",
       "    </tr>\n",
       "    <tr>\n",
       "      <th>8</th>\n",
       "      <td>4.4</td>\n",
       "      <td>2.9</td>\n",
       "      <td>1.4</td>\n",
       "      <td>0.2</td>\n",
       "      <td>Iris-setosa</td>\n",
       "    </tr>\n",
       "    <tr>\n",
       "      <th>9</th>\n",
       "      <td>4.9</td>\n",
       "      <td>3.1</td>\n",
       "      <td>1.5</td>\n",
       "      <td>0.1</td>\n",
       "      <td>Iris-setosa</td>\n",
       "    </tr>\n",
       "  </tbody>\n",
       "</table>\n",
       "</div>"
      ],
      "text/plain": [
       "   sepal_length  sepal_width  petal_length  petal_width        class\n",
       "0           5.1          3.5           1.4          0.2  Iris-setosa\n",
       "1           4.9          3.0           1.4          0.2  Iris-setosa\n",
       "2           4.7          3.2           1.3          0.2  Iris-setosa\n",
       "3           4.6          3.1           1.5          0.2  Iris-setosa\n",
       "4           5.0          3.6           1.4          0.2  Iris-setosa\n",
       "5           5.4          3.9           1.7          0.4  Iris-setosa\n",
       "6           4.6          3.4           1.4          0.3  Iris-setosa\n",
       "7           5.0          3.4           1.5          0.2  Iris-setosa\n",
       "8           4.4          2.9           1.4          0.2  Iris-setosa\n",
       "9           4.9          3.1           1.5          0.1  Iris-setosa"
      ]
     },
     "execution_count": 29,
     "metadata": {},
     "output_type": "execute_result"
    }
   ],
   "source": [
    "data.columns = colnames\n",
    "data.head(n=10)"
   ]
  },
  {
   "cell_type": "markdown",
   "metadata": {},
   "source": [
    "<div class=\"alert alert-warning\">\n",
    "<b>Simple descriptive statistics</b> \n",
    "</div>"
   ]
  },
  {
   "cell_type": "code",
   "execution_count": 30,
   "metadata": {},
   "outputs": [
    {
     "data": {
      "text/html": [
       "<div>\n",
       "<style scoped>\n",
       "    .dataframe tbody tr th:only-of-type {\n",
       "        vertical-align: middle;\n",
       "    }\n",
       "\n",
       "    .dataframe tbody tr th {\n",
       "        vertical-align: top;\n",
       "    }\n",
       "\n",
       "    .dataframe thead th {\n",
       "        text-align: right;\n",
       "    }\n",
       "</style>\n",
       "<table border=\"1\" class=\"dataframe\">\n",
       "  <thead>\n",
       "    <tr style=\"text-align: right;\">\n",
       "      <th></th>\n",
       "      <th>sepal_length</th>\n",
       "      <th>sepal_width</th>\n",
       "      <th>petal_length</th>\n",
       "      <th>petal_width</th>\n",
       "    </tr>\n",
       "  </thead>\n",
       "  <tbody>\n",
       "    <tr>\n",
       "      <th>count</th>\n",
       "      <td>150.000000</td>\n",
       "      <td>150.000000</td>\n",
       "      <td>150.000000</td>\n",
       "      <td>150.000000</td>\n",
       "    </tr>\n",
       "    <tr>\n",
       "      <th>mean</th>\n",
       "      <td>5.843333</td>\n",
       "      <td>3.054000</td>\n",
       "      <td>3.758667</td>\n",
       "      <td>1.198667</td>\n",
       "    </tr>\n",
       "    <tr>\n",
       "      <th>std</th>\n",
       "      <td>0.828066</td>\n",
       "      <td>0.433594</td>\n",
       "      <td>1.764420</td>\n",
       "      <td>0.763161</td>\n",
       "    </tr>\n",
       "    <tr>\n",
       "      <th>min</th>\n",
       "      <td>4.300000</td>\n",
       "      <td>2.000000</td>\n",
       "      <td>1.000000</td>\n",
       "      <td>0.100000</td>\n",
       "    </tr>\n",
       "    <tr>\n",
       "      <th>25%</th>\n",
       "      <td>5.100000</td>\n",
       "      <td>2.800000</td>\n",
       "      <td>1.600000</td>\n",
       "      <td>0.300000</td>\n",
       "    </tr>\n",
       "    <tr>\n",
       "      <th>50%</th>\n",
       "      <td>5.800000</td>\n",
       "      <td>3.000000</td>\n",
       "      <td>4.350000</td>\n",
       "      <td>1.300000</td>\n",
       "    </tr>\n",
       "    <tr>\n",
       "      <th>75%</th>\n",
       "      <td>6.400000</td>\n",
       "      <td>3.300000</td>\n",
       "      <td>5.100000</td>\n",
       "      <td>1.800000</td>\n",
       "    </tr>\n",
       "    <tr>\n",
       "      <th>max</th>\n",
       "      <td>7.900000</td>\n",
       "      <td>4.400000</td>\n",
       "      <td>6.900000</td>\n",
       "      <td>2.500000</td>\n",
       "    </tr>\n",
       "  </tbody>\n",
       "</table>\n",
       "</div>"
      ],
      "text/plain": [
       "       sepal_length  sepal_width  petal_length  petal_width\n",
       "count    150.000000   150.000000    150.000000   150.000000\n",
       "mean       5.843333     3.054000      3.758667     1.198667\n",
       "std        0.828066     0.433594      1.764420     0.763161\n",
       "min        4.300000     2.000000      1.000000     0.100000\n",
       "25%        5.100000     2.800000      1.600000     0.300000\n",
       "50%        5.800000     3.000000      4.350000     1.300000\n",
       "75%        6.400000     3.300000      5.100000     1.800000\n",
       "max        7.900000     4.400000      6.900000     2.500000"
      ]
     },
     "execution_count": 30,
     "metadata": {},
     "output_type": "execute_result"
    }
   ],
   "source": [
    "data.describe()"
   ]
  },
  {
   "cell_type": "code",
   "execution_count": 31,
   "metadata": {},
   "outputs": [
    {
     "name": "stdout",
     "output_type": "stream",
     "text": [
      "              sepal_length  sepal_width  petal_length  petal_width\n",
      "sepal_length      1.000000    -0.109369      0.871754     0.817954\n",
      "sepal_width      -0.109369     1.000000     -0.420516    -0.356544\n",
      "petal_length      0.871754    -0.420516      1.000000     0.962757\n",
      "petal_width       0.817954    -0.356544      0.962757     1.000000\n",
      "['Iris-setosa' 'Iris-versicolor' 'Iris-virginica']\n",
      "Iris-virginica     50\n",
      "Iris-setosa        50\n",
      "Iris-versicolor    50\n",
      "Name: class, dtype: int64\n"
     ]
    }
   ],
   "source": [
    "# Correlation table\n",
    "print(data.corr())\n",
    "\n",
    "# How many unique classes\n",
    "print(data['class'].unique())\n",
    "print(data['class'].value_counts())"
   ]
  },
  {
   "cell_type": "markdown",
   "metadata": {},
   "source": [
    "<a id=\"3.3\"></a>"
   ]
  },
  {
   "cell_type": "markdown",
   "metadata": {},
   "source": [
    "<span class=\"text\"><h3>3.3 Data Transformation</h3></span>\n",
    "<div class=\"alert alert-success\">\n",
    "<p style=\"font-size:120%\"><b>Understand:</b></p> \n",
    "<ol>\n",
    "    <li>Transform</li>\n",
    "    <li>Merge</li>\n",
    "    <li>Reshape</li>\n",
    "    <li>Aggregation</li>\n",
    "</ol>\n",
    "<div class=\"btn-group\"> \n",
    "    <a href=\"https://pandas.pydata.org/pandas-docs/stable/user_guide/merging.html\" target=\"_blank\" class=\"btn btn-info\" role=\"button\" style=\"text-decoration: none\">Merge and Join</a>\n",
    "    <a href=\"https://pandas.pydata.org/pandas-docs/stable/user_guide/groupby.html\" target=\"_blank\" class=\"btn btn-warning\" role=\"button\" style=\"text-decoration: none\">GroupBy</a>\n",
    "    <a href=\"https://pandas.pydata.org/pandas-docs/stable/user_guide/reshaping.html\" target=\"_blank\" class=\"btn btn-danger\" role=\"button\" style=\"text-decoration: none\">Reshape</a>\n",
    "</div>\n",
    "</div>"
   ]
  },
  {
   "cell_type": "markdown",
   "metadata": {},
   "source": [
    "<div class=\"alert alert-warning\">\n",
    "<b>Merge and Join Tables</b> \n",
    "</div>"
   ]
  },
  {
   "cell_type": "code",
   "execution_count": 32,
   "metadata": {},
   "outputs": [
    {
     "name": "stdout",
     "output_type": "stream",
     "text": [
      "Merging Table1 and Table2: \n",
      "  key  data1  data2\n",
      "0   b      0      1\n",
      "1   b      0      3\n",
      "2   b      1      1\n",
      "3   b      1      3\n",
      "4   b      5      1\n",
      "5   b      5      3\n",
      "6   a      2      0\n",
      "7   a      2      2\n",
      "8   a      4      0\n",
      "9   a      4      2\n",
      "Merge Table1 and Table2 on column key: \n",
      "  key  data1  data2\n",
      "0   b      0      1\n",
      "1   b      0      3\n",
      "2   b      1      1\n",
      "3   b      1      3\n",
      "4   b      5      1\n",
      "5   b      5      3\n",
      "6   a      2      0\n",
      "7   a      2      2\n",
      "8   a      4      0\n",
      "9   a      4      2\n",
      "Outer Join Table1 and Table2: \n",
      "   key  data1  data2\n",
      "0    b    0.0    1.0\n",
      "1    b    0.0    3.0\n",
      "2    b    1.0    1.0\n",
      "3    b    1.0    3.0\n",
      "4    b    5.0    1.0\n",
      "5    b    5.0    3.0\n",
      "6    a    2.0    0.0\n",
      "7    a    2.0    2.0\n",
      "8    a    4.0    0.0\n",
      "9    a    4.0    2.0\n",
      "10   c    3.0    NaN\n",
      "11   d    NaN    4.0\n",
      "Left Join Table1 and Table2: \n",
      "   key  data1  data2\n",
      "0    b      0    1.0\n",
      "1    b      0    3.0\n",
      "2    b      1    1.0\n",
      "3    b      1    3.0\n",
      "4    a      2    0.0\n",
      "5    a      2    2.0\n",
      "6    c      3    NaN\n",
      "7    a      4    0.0\n",
      "8    a      4    2.0\n",
      "9    b      5    1.0\n",
      "10   b      5    3.0\n",
      "Inner Join Table1 and Table2: \n",
      "  key  data1  data2\n",
      "0   b      0      1\n",
      "1   b      0      3\n",
      "2   b      1      1\n",
      "3   b      1      3\n",
      "4   b      5      1\n",
      "5   b      5      3\n",
      "6   a      2      0\n",
      "7   a      2      2\n",
      "8   a      4      0\n",
      "9   a      4      2\n"
     ]
    }
   ],
   "source": [
    "# Merge and Join Tables\n",
    "table1 = pd.DataFrame({'key': ['b', 'b', 'a', 'c', 'a', 'b'], 'data1': range(6)})\n",
    "table2 = pd.DataFrame({'key': ['a', 'b', 'a', 'b', 'd'], 'data2': range(5)})\n",
    "\n",
    "print(\"Merging Table1 and Table2: \")\n",
    "print(pd.merge(table1, table2))\n",
    "print(\"Merge Table1 and Table2 on column key: \")\n",
    "print(pd.merge(table1, table2, on='key'))\n",
    "print(\"Outer Join Table1 and Table2: \")\n",
    "print(pd.merge(table1, table2, how='outer'))\n",
    "print(\"Left Join Table1 and Table2: \")\n",
    "print(pd.merge(table1, table2, how='left'))\n",
    "print(\"Inner Join Table1 and Table2: \")\n",
    "print(pd.merge(table1, table2, how='inner'))"
   ]
  },
  {
   "cell_type": "markdown",
   "metadata": {},
   "source": [
    "<div class=\"alert alert-warning\">\n",
    "<b>Concatenating tables</b> \n",
    "</div>"
   ]
  },
  {
   "cell_type": "code",
   "execution_count": 33,
   "metadata": {},
   "outputs": [
    {
     "name": "stdout",
     "output_type": "stream",
     "text": [
      "          a         b         c         d\n",
      "0  0.113171  0.290991 -0.668831  0.840227\n",
      "1  1.205149  0.084030 -1.441348 -0.190568\n",
      "2 -0.268151  0.038396  1.498024 -1.035155\n",
      "3  0.537145  0.296066       NaN  0.376770\n",
      "4 -0.663706 -1.695351       NaN  1.029611\n"
     ]
    }
   ],
   "source": [
    "table1 = pd.DataFrame(np.random.randn(3, 4), columns=['a', 'b', 'c', 'd'])\n",
    "table2 = pd.DataFrame(np.random.randn(2, 3), columns=['b', 'd', 'a'])\n",
    "print(pd.concat([table1, table2], ignore_index=True, sort=False))"
   ]
  },
  {
   "cell_type": "markdown",
   "metadata": {},
   "source": [
    "<div class=\"alert alert-warning\">\n",
    "<b>Reshape the data from \"long\" to \"wide\", and from \"wide\" to \"long\"</b> \n",
    "</div>"
   ]
  },
  {
   "cell_type": "code",
   "execution_count": 34,
   "metadata": {},
   "outputs": [
    {
     "data": {
      "text/html": [
       "<div>\n",
       "<style scoped>\n",
       "    .dataframe tbody tr th:only-of-type {\n",
       "        vertical-align: middle;\n",
       "    }\n",
       "\n",
       "    .dataframe tbody tr th {\n",
       "        vertical-align: top;\n",
       "    }\n",
       "\n",
       "    .dataframe thead th {\n",
       "        text-align: right;\n",
       "    }\n",
       "</style>\n",
       "<table border=\"1\" class=\"dataframe\">\n",
       "  <thead>\n",
       "    <tr style=\"text-align: right;\">\n",
       "      <th></th>\n",
       "      <th>year</th>\n",
       "      <th>quarter</th>\n",
       "      <th>realgdp</th>\n",
       "      <th>realcons</th>\n",
       "      <th>realinv</th>\n",
       "      <th>realgovt</th>\n",
       "      <th>realdpi</th>\n",
       "      <th>cpi</th>\n",
       "      <th>m1</th>\n",
       "      <th>tbilrate</th>\n",
       "      <th>unemp</th>\n",
       "      <th>pop</th>\n",
       "      <th>infl</th>\n",
       "      <th>realint</th>\n",
       "    </tr>\n",
       "  </thead>\n",
       "  <tbody>\n",
       "    <tr>\n",
       "      <th>0</th>\n",
       "      <td>1959.0</td>\n",
       "      <td>1.0</td>\n",
       "      <td>2710.349</td>\n",
       "      <td>1707.4</td>\n",
       "      <td>286.898</td>\n",
       "      <td>470.045</td>\n",
       "      <td>1886.9</td>\n",
       "      <td>28.98</td>\n",
       "      <td>139.7</td>\n",
       "      <td>2.82</td>\n",
       "      <td>5.8</td>\n",
       "      <td>177.146</td>\n",
       "      <td>0.00</td>\n",
       "      <td>0.00</td>\n",
       "    </tr>\n",
       "    <tr>\n",
       "      <th>1</th>\n",
       "      <td>1959.0</td>\n",
       "      <td>2.0</td>\n",
       "      <td>2778.801</td>\n",
       "      <td>1733.7</td>\n",
       "      <td>310.859</td>\n",
       "      <td>481.301</td>\n",
       "      <td>1919.7</td>\n",
       "      <td>29.15</td>\n",
       "      <td>141.7</td>\n",
       "      <td>3.08</td>\n",
       "      <td>5.1</td>\n",
       "      <td>177.830</td>\n",
       "      <td>2.34</td>\n",
       "      <td>0.74</td>\n",
       "    </tr>\n",
       "    <tr>\n",
       "      <th>2</th>\n",
       "      <td>1959.0</td>\n",
       "      <td>3.0</td>\n",
       "      <td>2775.488</td>\n",
       "      <td>1751.8</td>\n",
       "      <td>289.226</td>\n",
       "      <td>491.260</td>\n",
       "      <td>1916.4</td>\n",
       "      <td>29.35</td>\n",
       "      <td>140.5</td>\n",
       "      <td>3.82</td>\n",
       "      <td>5.3</td>\n",
       "      <td>178.657</td>\n",
       "      <td>2.74</td>\n",
       "      <td>1.09</td>\n",
       "    </tr>\n",
       "    <tr>\n",
       "      <th>3</th>\n",
       "      <td>1959.0</td>\n",
       "      <td>4.0</td>\n",
       "      <td>2785.204</td>\n",
       "      <td>1753.7</td>\n",
       "      <td>299.356</td>\n",
       "      <td>484.052</td>\n",
       "      <td>1931.3</td>\n",
       "      <td>29.37</td>\n",
       "      <td>140.0</td>\n",
       "      <td>4.33</td>\n",
       "      <td>5.6</td>\n",
       "      <td>179.386</td>\n",
       "      <td>0.27</td>\n",
       "      <td>4.06</td>\n",
       "    </tr>\n",
       "    <tr>\n",
       "      <th>4</th>\n",
       "      <td>1960.0</td>\n",
       "      <td>1.0</td>\n",
       "      <td>2847.699</td>\n",
       "      <td>1770.5</td>\n",
       "      <td>331.722</td>\n",
       "      <td>462.199</td>\n",
       "      <td>1955.5</td>\n",
       "      <td>29.54</td>\n",
       "      <td>139.6</td>\n",
       "      <td>3.50</td>\n",
       "      <td>5.2</td>\n",
       "      <td>180.007</td>\n",
       "      <td>2.31</td>\n",
       "      <td>1.19</td>\n",
       "    </tr>\n",
       "    <tr>\n",
       "      <th>5</th>\n",
       "      <td>1960.0</td>\n",
       "      <td>2.0</td>\n",
       "      <td>2834.390</td>\n",
       "      <td>1792.9</td>\n",
       "      <td>298.152</td>\n",
       "      <td>460.400</td>\n",
       "      <td>1966.1</td>\n",
       "      <td>29.55</td>\n",
       "      <td>140.2</td>\n",
       "      <td>2.68</td>\n",
       "      <td>5.2</td>\n",
       "      <td>180.671</td>\n",
       "      <td>0.14</td>\n",
       "      <td>2.55</td>\n",
       "    </tr>\n",
       "    <tr>\n",
       "      <th>6</th>\n",
       "      <td>1960.0</td>\n",
       "      <td>3.0</td>\n",
       "      <td>2839.022</td>\n",
       "      <td>1785.8</td>\n",
       "      <td>296.375</td>\n",
       "      <td>474.676</td>\n",
       "      <td>1967.8</td>\n",
       "      <td>29.75</td>\n",
       "      <td>140.9</td>\n",
       "      <td>2.36</td>\n",
       "      <td>5.6</td>\n",
       "      <td>181.528</td>\n",
       "      <td>2.70</td>\n",
       "      <td>-0.34</td>\n",
       "    </tr>\n",
       "    <tr>\n",
       "      <th>7</th>\n",
       "      <td>1960.0</td>\n",
       "      <td>4.0</td>\n",
       "      <td>2802.616</td>\n",
       "      <td>1788.2</td>\n",
       "      <td>259.764</td>\n",
       "      <td>476.434</td>\n",
       "      <td>1966.6</td>\n",
       "      <td>29.84</td>\n",
       "      <td>141.1</td>\n",
       "      <td>2.29</td>\n",
       "      <td>6.3</td>\n",
       "      <td>182.287</td>\n",
       "      <td>1.21</td>\n",
       "      <td>1.08</td>\n",
       "    </tr>\n",
       "    <tr>\n",
       "      <th>8</th>\n",
       "      <td>1961.0</td>\n",
       "      <td>1.0</td>\n",
       "      <td>2819.264</td>\n",
       "      <td>1787.7</td>\n",
       "      <td>266.405</td>\n",
       "      <td>475.854</td>\n",
       "      <td>1984.5</td>\n",
       "      <td>29.81</td>\n",
       "      <td>142.1</td>\n",
       "      <td>2.37</td>\n",
       "      <td>6.8</td>\n",
       "      <td>182.992</td>\n",
       "      <td>-0.40</td>\n",
       "      <td>2.77</td>\n",
       "    </tr>\n",
       "    <tr>\n",
       "      <th>9</th>\n",
       "      <td>1961.0</td>\n",
       "      <td>2.0</td>\n",
       "      <td>2872.005</td>\n",
       "      <td>1814.3</td>\n",
       "      <td>286.246</td>\n",
       "      <td>480.328</td>\n",
       "      <td>2014.4</td>\n",
       "      <td>29.92</td>\n",
       "      <td>142.9</td>\n",
       "      <td>2.29</td>\n",
       "      <td>7.0</td>\n",
       "      <td>183.691</td>\n",
       "      <td>1.47</td>\n",
       "      <td>0.81</td>\n",
       "    </tr>\n",
       "  </tbody>\n",
       "</table>\n",
       "</div>"
      ],
      "text/plain": [
       "     year  quarter   realgdp  realcons  realinv  realgovt  realdpi    cpi  \\\n",
       "0  1959.0      1.0  2710.349    1707.4  286.898   470.045   1886.9  28.98   \n",
       "1  1959.0      2.0  2778.801    1733.7  310.859   481.301   1919.7  29.15   \n",
       "2  1959.0      3.0  2775.488    1751.8  289.226   491.260   1916.4  29.35   \n",
       "3  1959.0      4.0  2785.204    1753.7  299.356   484.052   1931.3  29.37   \n",
       "4  1960.0      1.0  2847.699    1770.5  331.722   462.199   1955.5  29.54   \n",
       "5  1960.0      2.0  2834.390    1792.9  298.152   460.400   1966.1  29.55   \n",
       "6  1960.0      3.0  2839.022    1785.8  296.375   474.676   1967.8  29.75   \n",
       "7  1960.0      4.0  2802.616    1788.2  259.764   476.434   1966.6  29.84   \n",
       "8  1961.0      1.0  2819.264    1787.7  266.405   475.854   1984.5  29.81   \n",
       "9  1961.0      2.0  2872.005    1814.3  286.246   480.328   2014.4  29.92   \n",
       "\n",
       "      m1  tbilrate  unemp      pop  infl  realint  \n",
       "0  139.7      2.82    5.8  177.146  0.00     0.00  \n",
       "1  141.7      3.08    5.1  177.830  2.34     0.74  \n",
       "2  140.5      3.82    5.3  178.657  2.74     1.09  \n",
       "3  140.0      4.33    5.6  179.386  0.27     4.06  \n",
       "4  139.6      3.50    5.2  180.007  2.31     1.19  \n",
       "5  140.2      2.68    5.2  180.671  0.14     2.55  \n",
       "6  140.9      2.36    5.6  181.528  2.70    -0.34  \n",
       "7  141.1      2.29    6.3  182.287  1.21     1.08  \n",
       "8  142.1      2.37    6.8  182.992 -0.40     2.77  \n",
       "9  142.9      2.29    7.0  183.691  1.47     0.81  "
      ]
     },
     "execution_count": 34,
     "metadata": {},
     "output_type": "execute_result"
    }
   ],
   "source": [
    "%pwd  #This is an Ipython magic command\n",
    "data = pd.read_csv('./macrodata.csv')\n",
    "data.head(n=10)"
   ]
  },
  {
   "cell_type": "code",
   "execution_count": 35,
   "metadata": {},
   "outputs": [
    {
     "data": {
      "text/plain": [
       "PeriodIndex(['1959Q1', '1959Q2', '1959Q3', '1959Q4', '1960Q1', '1960Q2',\n",
       "             '1960Q3', '1960Q4', '1961Q1', '1961Q2',\n",
       "             ...\n",
       "             '2007Q2', '2007Q3', '2007Q4', '2008Q1', '2008Q2', '2008Q3',\n",
       "             '2008Q4', '2009Q1', '2009Q2', '2009Q3'],\n",
       "            dtype='period[Q-DEC]', name='date', length=203, freq='Q-DEC')"
      ]
     },
     "execution_count": 35,
     "metadata": {},
     "output_type": "execute_result"
    }
   ],
   "source": [
    "periods = pd.PeriodIndex(year=data.year, quarter=data.quarter, name='date')\n",
    "periods"
   ]
  },
  {
   "cell_type": "code",
   "execution_count": 36,
   "metadata": {},
   "outputs": [
    {
     "data": {
      "text/html": [
       "<div>\n",
       "<style scoped>\n",
       "    .dataframe tbody tr th:only-of-type {\n",
       "        vertical-align: middle;\n",
       "    }\n",
       "\n",
       "    .dataframe tbody tr th {\n",
       "        vertical-align: top;\n",
       "    }\n",
       "\n",
       "    .dataframe thead th {\n",
       "        text-align: right;\n",
       "    }\n",
       "</style>\n",
       "<table border=\"1\" class=\"dataframe\">\n",
       "  <thead>\n",
       "    <tr style=\"text-align: right;\">\n",
       "      <th>item</th>\n",
       "      <th>realgdp</th>\n",
       "      <th>inflation</th>\n",
       "      <th>unemployment</th>\n",
       "    </tr>\n",
       "    <tr>\n",
       "      <th>date</th>\n",
       "      <th></th>\n",
       "      <th></th>\n",
       "      <th></th>\n",
       "    </tr>\n",
       "  </thead>\n",
       "  <tbody>\n",
       "    <tr>\n",
       "      <th>1959-03-31</th>\n",
       "      <td>2710.349</td>\n",
       "      <td>0.00</td>\n",
       "      <td>5.8</td>\n",
       "    </tr>\n",
       "    <tr>\n",
       "      <th>1959-06-30</th>\n",
       "      <td>2778.801</td>\n",
       "      <td>2.34</td>\n",
       "      <td>5.1</td>\n",
       "    </tr>\n",
       "    <tr>\n",
       "      <th>1959-09-30</th>\n",
       "      <td>2775.488</td>\n",
       "      <td>2.74</td>\n",
       "      <td>5.3</td>\n",
       "    </tr>\n",
       "    <tr>\n",
       "      <th>1959-12-31</th>\n",
       "      <td>2785.204</td>\n",
       "      <td>0.27</td>\n",
       "      <td>5.6</td>\n",
       "    </tr>\n",
       "    <tr>\n",
       "      <th>1960-03-31</th>\n",
       "      <td>2847.699</td>\n",
       "      <td>2.31</td>\n",
       "      <td>5.2</td>\n",
       "    </tr>\n",
       "    <tr>\n",
       "      <th>1960-06-30</th>\n",
       "      <td>2834.390</td>\n",
       "      <td>0.14</td>\n",
       "      <td>5.2</td>\n",
       "    </tr>\n",
       "    <tr>\n",
       "      <th>1960-09-30</th>\n",
       "      <td>2839.022</td>\n",
       "      <td>2.70</td>\n",
       "      <td>5.6</td>\n",
       "    </tr>\n",
       "    <tr>\n",
       "      <th>1960-12-31</th>\n",
       "      <td>2802.616</td>\n",
       "      <td>1.21</td>\n",
       "      <td>6.3</td>\n",
       "    </tr>\n",
       "    <tr>\n",
       "      <th>1961-03-31</th>\n",
       "      <td>2819.264</td>\n",
       "      <td>-0.40</td>\n",
       "      <td>6.8</td>\n",
       "    </tr>\n",
       "    <tr>\n",
       "      <th>1961-06-30</th>\n",
       "      <td>2872.005</td>\n",
       "      <td>1.47</td>\n",
       "      <td>7.0</td>\n",
       "    </tr>\n",
       "  </tbody>\n",
       "</table>\n",
       "</div>"
      ],
      "text/plain": [
       "item         realgdp  inflation  unemployment\n",
       "date                                         \n",
       "1959-03-31  2710.349       0.00           5.8\n",
       "1959-06-30  2778.801       2.34           5.1\n",
       "1959-09-30  2775.488       2.74           5.3\n",
       "1959-12-31  2785.204       0.27           5.6\n",
       "1960-03-31  2847.699       2.31           5.2\n",
       "1960-06-30  2834.390       0.14           5.2\n",
       "1960-09-30  2839.022       2.70           5.6\n",
       "1960-12-31  2802.616       1.21           6.3\n",
       "1961-03-31  2819.264      -0.40           6.8\n",
       "1961-06-30  2872.005       1.47           7.0"
      ]
     },
     "execution_count": 36,
     "metadata": {},
     "output_type": "execute_result"
    }
   ],
   "source": [
    "data = pd.DataFrame(data.to_records(), columns=pd.Index(['realgdp', 'infl', 'unemp'], name='item'), index=periods.to_timestamp('D', 'end'))\n",
    "data.rename(columns={'infl':'inflation', 'unemp':'unemployment'}, inplace=True)\n",
    "data[:10]"
   ]
  },
  {
   "cell_type": "code",
   "execution_count": 37,
   "metadata": {},
   "outputs": [
    {
     "name": "stdout",
     "output_type": "stream",
     "text": [
      "        date          item     value\n",
      "0 1959-03-31       realgdp  2710.349\n",
      "1 1959-03-31     inflation     0.000\n",
      "2 1959-03-31  unemployment     5.800\n",
      "3 1959-06-30       realgdp  2778.801\n",
      "4 1959-06-30     inflation     2.340\n",
      "5 1959-06-30  unemployment     5.100\n",
      "6 1959-09-30       realgdp  2775.488\n",
      "7 1959-09-30     inflation     2.740\n",
      "8 1959-09-30  unemployment     5.300\n",
      "9 1959-12-31       realgdp  2785.204\n"
     ]
    }
   ],
   "source": [
    "# From wide data to long data\n",
    "ldata = data.stack().reset_index().rename(columns={0: 'value'})\n",
    "print(ldata[:10])"
   ]
  },
  {
   "cell_type": "code",
   "execution_count": 38,
   "metadata": {},
   "outputs": [
    {
     "name": "stdout",
     "output_type": "stream",
     "text": [
      "item        inflation   realgdp  unemployment\n",
      "date                                         \n",
      "1959-03-31       0.00  2710.349           5.8\n",
      "1959-06-30       2.34  2778.801           5.1\n",
      "1959-09-30       2.74  2775.488           5.3\n",
      "1959-12-31       0.27  2785.204           5.6\n",
      "1960-03-31       2.31  2847.699           5.2\n",
      "1960-06-30       0.14  2834.390           5.2\n",
      "1960-09-30       2.70  2839.022           5.6\n",
      "1960-12-31       1.21  2802.616           6.3\n",
      "1961-03-31      -0.40  2819.264           6.8\n",
      "1961-06-30       1.47  2872.005           7.0\n"
     ]
    }
   ],
   "source": [
    "# Reshape long data to wide data\n",
    "wdata = ldata.pivot('date', 'item', 'value')\n",
    "print(wdata[:10])"
   ]
  },
  {
   "cell_type": "markdown",
   "metadata": {},
   "source": [
    "<div class=\"alert alert-warning\">\n",
    "<b>Remove duplicated rows</b> \n",
    "</div>"
   ]
  },
  {
   "cell_type": "code",
   "execution_count": 39,
   "metadata": {},
   "outputs": [
    {
     "name": "stdout",
     "output_type": "stream",
     "text": [
      "    k1  k2\n",
      "0  one   1\n",
      "1  one   1\n",
      "2  one   2\n",
      "3  two   3\n",
      "4  two   3\n",
      "5  two   4\n",
      "6  two   4\n",
      "Whether this row is duplicated: \n",
      "0    False\n",
      "1     True\n",
      "2    False\n",
      "3    False\n",
      "4     True\n",
      "5    False\n",
      "6     True\n",
      "dtype: bool\n",
      "After dropping duplicated rows: \n",
      "    k1  k2\n",
      "0  one   1\n",
      "2  one   2\n",
      "3  two   3\n",
      "5  two   4\n"
     ]
    }
   ],
   "source": [
    "data = pd.DataFrame({'k1': ['one'] * 3 + ['two'] * 4, 'k2': [1, 1, 2, 3, 3, 4, 4]})\n",
    "print(data)\n",
    "print(\"Whether this row is duplicated: \")\n",
    "print(data.duplicated())\n",
    "print(\"After dropping duplicated rows: \")\n",
    "print(data.drop_duplicates())"
   ]
  },
  {
   "cell_type": "markdown",
   "metadata": {},
   "source": [
    "<div class=\"alert alert-warning\">\n",
    "<b>Create dummy variables</b> \n",
    "</div>"
   ]
  },
  {
   "cell_type": "code",
   "execution_count": 40,
   "metadata": {},
   "outputs": [
    {
     "name": "stdout",
     "output_type": "stream",
     "text": [
      "Original data: \n",
      "  key  x\n",
      "0   b  0\n",
      "1   b  1\n",
      "2   a  2\n",
      "3   c  3\n",
      "4   a  4\n",
      "5   b  5\n",
      "Create dummies: \n",
      "  key  x  key_a  key_b  key_c\n",
      "0   b  0      0      1      0\n",
      "1   b  1      0      1      0\n",
      "2   a  2      1      0      0\n",
      "3   c  3      0      0      1\n",
      "4   a  4      1      0      0\n",
      "5   b  5      0      1      0\n"
     ]
    }
   ],
   "source": [
    "data = pd.DataFrame({'key': ['b', 'b', 'a', 'c', 'a', 'b'], 'x': range(6)})\n",
    "print(\"Original data: \")\n",
    "print(data)\n",
    "print(\"Create dummies: \")\n",
    "print(data.join(pd.get_dummies(data['key'], prefix='key')))"
   ]
  },
  {
   "cell_type": "markdown",
   "metadata": {},
   "source": [
    "<div class=\"alert alert-warning\">\n",
    "<b>GroupBy Operations</b> \n",
    "</div>"
   ]
  },
  {
   "cell_type": "code",
   "execution_count": 41,
   "metadata": {},
   "outputs": [
    {
     "data": {
      "text/html": [
       "<div>\n",
       "<style scoped>\n",
       "    .dataframe tbody tr th:only-of-type {\n",
       "        vertical-align: middle;\n",
       "    }\n",
       "\n",
       "    .dataframe tbody tr th {\n",
       "        vertical-align: top;\n",
       "    }\n",
       "\n",
       "    .dataframe thead th {\n",
       "        text-align: right;\n",
       "    }\n",
       "</style>\n",
       "<table border=\"1\" class=\"dataframe\">\n",
       "  <thead>\n",
       "    <tr style=\"text-align: right;\">\n",
       "      <th></th>\n",
       "      <th>sepal_length</th>\n",
       "      <th>sepal_width</th>\n",
       "      <th>petal_length</th>\n",
       "      <th>petal_width</th>\n",
       "      <th>class</th>\n",
       "    </tr>\n",
       "  </thead>\n",
       "  <tbody>\n",
       "    <tr>\n",
       "      <th>0</th>\n",
       "      <td>5.1</td>\n",
       "      <td>3.5</td>\n",
       "      <td>1.4</td>\n",
       "      <td>0.2</td>\n",
       "      <td>Iris-setosa</td>\n",
       "    </tr>\n",
       "    <tr>\n",
       "      <th>1</th>\n",
       "      <td>4.9</td>\n",
       "      <td>3.0</td>\n",
       "      <td>1.4</td>\n",
       "      <td>0.2</td>\n",
       "      <td>Iris-setosa</td>\n",
       "    </tr>\n",
       "    <tr>\n",
       "      <th>2</th>\n",
       "      <td>4.7</td>\n",
       "      <td>3.2</td>\n",
       "      <td>1.3</td>\n",
       "      <td>0.2</td>\n",
       "      <td>Iris-setosa</td>\n",
       "    </tr>\n",
       "    <tr>\n",
       "      <th>3</th>\n",
       "      <td>4.6</td>\n",
       "      <td>3.1</td>\n",
       "      <td>1.5</td>\n",
       "      <td>0.2</td>\n",
       "      <td>Iris-setosa</td>\n",
       "    </tr>\n",
       "    <tr>\n",
       "      <th>4</th>\n",
       "      <td>5.0</td>\n",
       "      <td>3.6</td>\n",
       "      <td>1.4</td>\n",
       "      <td>0.2</td>\n",
       "      <td>Iris-setosa</td>\n",
       "    </tr>\n",
       "  </tbody>\n",
       "</table>\n",
       "</div>"
      ],
      "text/plain": [
       "   sepal_length  sepal_width  petal_length  petal_width        class\n",
       "0           5.1          3.5           1.4          0.2  Iris-setosa\n",
       "1           4.9          3.0           1.4          0.2  Iris-setosa\n",
       "2           4.7          3.2           1.3          0.2  Iris-setosa\n",
       "3           4.6          3.1           1.5          0.2  Iris-setosa\n",
       "4           5.0          3.6           1.4          0.2  Iris-setosa"
      ]
     },
     "execution_count": 41,
     "metadata": {},
     "output_type": "execute_result"
    }
   ],
   "source": [
    "# Group Operations\n",
    "data = pd.read_csv('https://archive.ics.uci.edu/ml/machine-learning-databases/iris/iris.data', header=None)\n",
    "colnames = ['sepal_length','sepal_width','petal_length','petal_width','class']\n",
    "data.columns = colnames\n",
    "data.head(5)"
   ]
  },
  {
   "cell_type": "code",
   "execution_count": 42,
   "metadata": {},
   "outputs": [
    {
     "data": {
      "text/plain": [
       "<pandas.core.groupby.groupby.DataFrameGroupBy object at 0x000001788475E940>"
      ]
     },
     "execution_count": 42,
     "metadata": {},
     "output_type": "execute_result"
    }
   ],
   "source": [
    "df = data.groupby(['class'])\n",
    "df"
   ]
  },
  {
   "cell_type": "code",
   "execution_count": 43,
   "metadata": {},
   "outputs": [
    {
     "name": "stdout",
     "output_type": "stream",
     "text": [
      "Mean by class: \n",
      "                 sepal_length  sepal_width  petal_length  petal_width\n",
      "class                                                                \n",
      "Iris-setosa             5.006        3.418         1.464        0.244\n",
      "Iris-versicolor         5.936        2.770         4.260        1.326\n",
      "Iris-virginica          6.588        2.974         5.552        2.026\n",
      "\n",
      "Size for class: \n",
      "class\n",
      "Iris-setosa        50\n",
      "Iris-versicolor    50\n",
      "Iris-virginica     50\n",
      "dtype: int64\n"
     ]
    }
   ],
   "source": [
    "# Groupby: mean, size, sum, max, min,...,etc.\n",
    "print(\"Mean by class: \")\n",
    "print(df.mean())\n",
    "print(\"\\nSize for class: \")\n",
    "print(df.size())"
   ]
  },
  {
   "cell_type": "code",
   "execution_count": 44,
   "metadata": {},
   "outputs": [
    {
     "name": "stdout",
     "output_type": "stream",
     "text": [
      "name is:  Iris-setosa\n",
      "group is:      sepal_length  sepal_width  petal_length  petal_width        class\n",
      "0            5.1          3.5           1.4          0.2  Iris-setosa\n",
      "1            4.9          3.0           1.4          0.2  Iris-setosa\n",
      "2            4.7          3.2           1.3          0.2  Iris-setosa\n",
      "3            4.6          3.1           1.5          0.2  Iris-setosa\n",
      "4            5.0          3.6           1.4          0.2  Iris-setosa\n",
      "5            5.4          3.9           1.7          0.4  Iris-setosa\n",
      "6            4.6          3.4           1.4          0.3  Iris-setosa\n",
      "7            5.0          3.4           1.5          0.2  Iris-setosa\n",
      "8            4.4          2.9           1.4          0.2  Iris-setosa\n",
      "9            4.9          3.1           1.5          0.1  Iris-setosa\n",
      "10           5.4          3.7           1.5          0.2  Iris-setosa\n",
      "11           4.8          3.4           1.6          0.2  Iris-setosa\n",
      "12           4.8          3.0           1.4          0.1  Iris-setosa\n",
      "13           4.3          3.0           1.1          0.1  Iris-setosa\n",
      "14           5.8          4.0           1.2          0.2  Iris-setosa\n",
      "15           5.7          4.4           1.5          0.4  Iris-setosa\n",
      "16           5.4          3.9           1.3          0.4  Iris-setosa\n",
      "17           5.1          3.5           1.4          0.3  Iris-setosa\n",
      "18           5.7          3.8           1.7          0.3  Iris-setosa\n",
      "19           5.1          3.8           1.5          0.3  Iris-setosa\n",
      "20           5.4          3.4           1.7          0.2  Iris-setosa\n",
      "21           5.1          3.7           1.5          0.4  Iris-setosa\n",
      "22           4.6          3.6           1.0          0.2  Iris-setosa\n",
      "23           5.1          3.3           1.7          0.5  Iris-setosa\n",
      "24           4.8          3.4           1.9          0.2  Iris-setosa\n",
      "25           5.0          3.0           1.6          0.2  Iris-setosa\n",
      "26           5.0          3.4           1.6          0.4  Iris-setosa\n",
      "27           5.2          3.5           1.5          0.2  Iris-setosa\n",
      "28           5.2          3.4           1.4          0.2  Iris-setosa\n",
      "29           4.7          3.2           1.6          0.2  Iris-setosa\n",
      "30           4.8          3.1           1.6          0.2  Iris-setosa\n",
      "31           5.4          3.4           1.5          0.4  Iris-setosa\n",
      "32           5.2          4.1           1.5          0.1  Iris-setosa\n",
      "33           5.5          4.2           1.4          0.2  Iris-setosa\n",
      "34           4.9          3.1           1.5          0.1  Iris-setosa\n",
      "35           5.0          3.2           1.2          0.2  Iris-setosa\n",
      "36           5.5          3.5           1.3          0.2  Iris-setosa\n",
      "37           4.9          3.1           1.5          0.1  Iris-setosa\n",
      "38           4.4          3.0           1.3          0.2  Iris-setosa\n",
      "39           5.1          3.4           1.5          0.2  Iris-setosa\n",
      "40           5.0          3.5           1.3          0.3  Iris-setosa\n",
      "41           4.5          2.3           1.3          0.3  Iris-setosa\n",
      "42           4.4          3.2           1.3          0.2  Iris-setosa\n",
      "43           5.0          3.5           1.6          0.6  Iris-setosa\n",
      "44           5.1          3.8           1.9          0.4  Iris-setosa\n",
      "45           4.8          3.0           1.4          0.3  Iris-setosa\n",
      "46           5.1          3.8           1.6          0.2  Iris-setosa\n",
      "47           4.6          3.2           1.4          0.2  Iris-setosa\n",
      "48           5.3          3.7           1.5          0.2  Iris-setosa\n",
      "49           5.0          3.3           1.4          0.2  Iris-setosa\n",
      "name is:  Iris-versicolor\n",
      "group is:      sepal_length  sepal_width  petal_length  petal_width            class\n",
      "50           7.0          3.2           4.7          1.4  Iris-versicolor\n",
      "51           6.4          3.2           4.5          1.5  Iris-versicolor\n",
      "52           6.9          3.1           4.9          1.5  Iris-versicolor\n",
      "53           5.5          2.3           4.0          1.3  Iris-versicolor\n",
      "54           6.5          2.8           4.6          1.5  Iris-versicolor\n",
      "55           5.7          2.8           4.5          1.3  Iris-versicolor\n",
      "56           6.3          3.3           4.7          1.6  Iris-versicolor\n",
      "57           4.9          2.4           3.3          1.0  Iris-versicolor\n",
      "58           6.6          2.9           4.6          1.3  Iris-versicolor\n",
      "59           5.2          2.7           3.9          1.4  Iris-versicolor\n",
      "60           5.0          2.0           3.5          1.0  Iris-versicolor\n",
      "61           5.9          3.0           4.2          1.5  Iris-versicolor\n",
      "62           6.0          2.2           4.0          1.0  Iris-versicolor\n",
      "63           6.1          2.9           4.7          1.4  Iris-versicolor\n",
      "64           5.6          2.9           3.6          1.3  Iris-versicolor\n",
      "65           6.7          3.1           4.4          1.4  Iris-versicolor\n",
      "66           5.6          3.0           4.5          1.5  Iris-versicolor\n",
      "67           5.8          2.7           4.1          1.0  Iris-versicolor\n",
      "68           6.2          2.2           4.5          1.5  Iris-versicolor\n",
      "69           5.6          2.5           3.9          1.1  Iris-versicolor\n",
      "70           5.9          3.2           4.8          1.8  Iris-versicolor\n",
      "71           6.1          2.8           4.0          1.3  Iris-versicolor\n",
      "72           6.3          2.5           4.9          1.5  Iris-versicolor\n",
      "73           6.1          2.8           4.7          1.2  Iris-versicolor\n",
      "74           6.4          2.9           4.3          1.3  Iris-versicolor\n",
      "75           6.6          3.0           4.4          1.4  Iris-versicolor\n",
      "76           6.8          2.8           4.8          1.4  Iris-versicolor\n",
      "77           6.7          3.0           5.0          1.7  Iris-versicolor\n",
      "78           6.0          2.9           4.5          1.5  Iris-versicolor\n",
      "79           5.7          2.6           3.5          1.0  Iris-versicolor\n",
      "80           5.5          2.4           3.8          1.1  Iris-versicolor\n",
      "81           5.5          2.4           3.7          1.0  Iris-versicolor\n",
      "82           5.8          2.7           3.9          1.2  Iris-versicolor\n",
      "83           6.0          2.7           5.1          1.6  Iris-versicolor\n",
      "84           5.4          3.0           4.5          1.5  Iris-versicolor\n",
      "85           6.0          3.4           4.5          1.6  Iris-versicolor\n",
      "86           6.7          3.1           4.7          1.5  Iris-versicolor\n",
      "87           6.3          2.3           4.4          1.3  Iris-versicolor\n",
      "88           5.6          3.0           4.1          1.3  Iris-versicolor\n",
      "89           5.5          2.5           4.0          1.3  Iris-versicolor\n",
      "90           5.5          2.6           4.4          1.2  Iris-versicolor\n",
      "91           6.1          3.0           4.6          1.4  Iris-versicolor\n",
      "92           5.8          2.6           4.0          1.2  Iris-versicolor\n",
      "93           5.0          2.3           3.3          1.0  Iris-versicolor\n",
      "94           5.6          2.7           4.2          1.3  Iris-versicolor\n",
      "95           5.7          3.0           4.2          1.2  Iris-versicolor\n",
      "96           5.7          2.9           4.2          1.3  Iris-versicolor\n",
      "97           6.2          2.9           4.3          1.3  Iris-versicolor\n",
      "98           5.1          2.5           3.0          1.1  Iris-versicolor\n",
      "99           5.7          2.8           4.1          1.3  Iris-versicolor\n",
      "name is:  Iris-virginica\n",
      "group is:       sepal_length  sepal_width  petal_length  petal_width           class\n",
      "100           6.3          3.3           6.0          2.5  Iris-virginica\n",
      "101           5.8          2.7           5.1          1.9  Iris-virginica\n",
      "102           7.1          3.0           5.9          2.1  Iris-virginica\n",
      "103           6.3          2.9           5.6          1.8  Iris-virginica\n",
      "104           6.5          3.0           5.8          2.2  Iris-virginica\n",
      "105           7.6          3.0           6.6          2.1  Iris-virginica\n",
      "106           4.9          2.5           4.5          1.7  Iris-virginica\n",
      "107           7.3          2.9           6.3          1.8  Iris-virginica\n",
      "108           6.7          2.5           5.8          1.8  Iris-virginica\n",
      "109           7.2          3.6           6.1          2.5  Iris-virginica\n",
      "110           6.5          3.2           5.1          2.0  Iris-virginica\n",
      "111           6.4          2.7           5.3          1.9  Iris-virginica\n",
      "112           6.8          3.0           5.5          2.1  Iris-virginica\n",
      "113           5.7          2.5           5.0          2.0  Iris-virginica\n",
      "114           5.8          2.8           5.1          2.4  Iris-virginica\n",
      "115           6.4          3.2           5.3          2.3  Iris-virginica\n",
      "116           6.5          3.0           5.5          1.8  Iris-virginica\n",
      "117           7.7          3.8           6.7          2.2  Iris-virginica\n",
      "118           7.7          2.6           6.9          2.3  Iris-virginica\n",
      "119           6.0          2.2           5.0          1.5  Iris-virginica\n",
      "120           6.9          3.2           5.7          2.3  Iris-virginica\n",
      "121           5.6          2.8           4.9          2.0  Iris-virginica\n",
      "122           7.7          2.8           6.7          2.0  Iris-virginica\n",
      "123           6.3          2.7           4.9          1.8  Iris-virginica\n",
      "124           6.7          3.3           5.7          2.1  Iris-virginica\n",
      "125           7.2          3.2           6.0          1.8  Iris-virginica\n",
      "126           6.2          2.8           4.8          1.8  Iris-virginica\n",
      "127           6.1          3.0           4.9          1.8  Iris-virginica\n",
      "128           6.4          2.8           5.6          2.1  Iris-virginica\n",
      "129           7.2          3.0           5.8          1.6  Iris-virginica\n",
      "130           7.4          2.8           6.1          1.9  Iris-virginica\n",
      "131           7.9          3.8           6.4          2.0  Iris-virginica\n",
      "132           6.4          2.8           5.6          2.2  Iris-virginica\n",
      "133           6.3          2.8           5.1          1.5  Iris-virginica\n",
      "134           6.1          2.6           5.6          1.4  Iris-virginica\n",
      "135           7.7          3.0           6.1          2.3  Iris-virginica\n",
      "136           6.3          3.4           5.6          2.4  Iris-virginica\n",
      "137           6.4          3.1           5.5          1.8  Iris-virginica\n",
      "138           6.0          3.0           4.8          1.8  Iris-virginica\n",
      "139           6.9          3.1           5.4          2.1  Iris-virginica\n",
      "140           6.7          3.1           5.6          2.4  Iris-virginica\n",
      "141           6.9          3.1           5.1          2.3  Iris-virginica\n",
      "142           5.8          2.7           5.1          1.9  Iris-virginica\n",
      "143           6.8          3.2           5.9          2.3  Iris-virginica\n",
      "144           6.7          3.3           5.7          2.5  Iris-virginica\n",
      "145           6.7          3.0           5.2          2.3  Iris-virginica\n",
      "146           6.3          2.5           5.0          1.9  Iris-virginica\n",
      "147           6.5          3.0           5.2          2.0  Iris-virginica\n",
      "148           6.2          3.4           5.4          2.3  Iris-virginica\n",
      "149           5.9          3.0           5.1          1.8  Iris-virginica\n"
     ]
    }
   ],
   "source": [
    "# Interate over groups\n",
    "for name, group in df:\n",
    "    print(\"name is: \", name)\n",
    "    print(\"group is: \", group)"
   ]
  },
  {
   "cell_type": "markdown",
   "metadata": {},
   "source": [
    "<div class=\"alert alert-warning\">\n",
    "<b>Groupby with function</b> \n",
    "</div>"
   ]
  },
  {
   "cell_type": "code",
   "execution_count": 45,
   "metadata": {},
   "outputs": [
    {
     "data": {
      "text/html": [
       "<div>\n",
       "<style scoped>\n",
       "    .dataframe tbody tr th:only-of-type {\n",
       "        vertical-align: middle;\n",
       "    }\n",
       "\n",
       "    .dataframe tbody tr th {\n",
       "        vertical-align: top;\n",
       "    }\n",
       "\n",
       "    .dataframe thead th {\n",
       "        text-align: right;\n",
       "    }\n",
       "</style>\n",
       "<table border=\"1\" class=\"dataframe\">\n",
       "  <thead>\n",
       "    <tr style=\"text-align: right;\">\n",
       "      <th></th>\n",
       "      <th>a</th>\n",
       "      <th>b</th>\n",
       "      <th>c</th>\n",
       "      <th>d</th>\n",
       "      <th>e</th>\n",
       "    </tr>\n",
       "  </thead>\n",
       "  <tbody>\n",
       "    <tr>\n",
       "      <th>Joe</th>\n",
       "      <td>-0.107440</td>\n",
       "      <td>0.945312</td>\n",
       "      <td>0.495532</td>\n",
       "      <td>-0.086441</td>\n",
       "      <td>-0.172423</td>\n",
       "    </tr>\n",
       "    <tr>\n",
       "      <th>Steve</th>\n",
       "      <td>0.081986</td>\n",
       "      <td>2.037134</td>\n",
       "      <td>0.441812</td>\n",
       "      <td>-0.633124</td>\n",
       "      <td>-0.536619</td>\n",
       "    </tr>\n",
       "    <tr>\n",
       "      <th>Wes</th>\n",
       "      <td>-0.451300</td>\n",
       "      <td>NaN</td>\n",
       "      <td>NaN</td>\n",
       "      <td>0.395116</td>\n",
       "      <td>0.628081</td>\n",
       "    </tr>\n",
       "    <tr>\n",
       "      <th>Jim</th>\n",
       "      <td>-0.582920</td>\n",
       "      <td>-0.324463</td>\n",
       "      <td>0.172116</td>\n",
       "      <td>0.311705</td>\n",
       "      <td>-2.157915</td>\n",
       "    </tr>\n",
       "    <tr>\n",
       "      <th>Travis</th>\n",
       "      <td>-0.586643</td>\n",
       "      <td>1.010123</td>\n",
       "      <td>0.382475</td>\n",
       "      <td>-0.751434</td>\n",
       "      <td>0.190100</td>\n",
       "    </tr>\n",
       "  </tbody>\n",
       "</table>\n",
       "</div>"
      ],
      "text/plain": [
       "               a         b         c         d         e\n",
       "Joe    -0.107440  0.945312  0.495532 -0.086441 -0.172423\n",
       "Steve   0.081986  2.037134  0.441812 -0.633124 -0.536619\n",
       "Wes    -0.451300       NaN       NaN  0.395116  0.628081\n",
       "Jim    -0.582920 -0.324463  0.172116  0.311705 -2.157915\n",
       "Travis -0.586643  1.010123  0.382475 -0.751434  0.190100"
      ]
     },
     "execution_count": 45,
     "metadata": {},
     "output_type": "execute_result"
    }
   ],
   "source": [
    "people = pd.DataFrame(np.random.randn(5, 5), columns=['a', 'b', 'c', 'd', 'e'], index=['Joe', 'Steve', 'Wes', 'Jim', 'Travis'])\n",
    "people.iloc[2:3, people.columns.get_indexer(['b','c'])] = np.nan # Add a few NA values\n",
    "people"
   ]
  },
  {
   "cell_type": "code",
   "execution_count": 46,
   "metadata": {},
   "outputs": [
    {
     "data": {
      "text/html": [
       "<div>\n",
       "<style scoped>\n",
       "    .dataframe tbody tr th:only-of-type {\n",
       "        vertical-align: middle;\n",
       "    }\n",
       "\n",
       "    .dataframe tbody tr th {\n",
       "        vertical-align: top;\n",
       "    }\n",
       "\n",
       "    .dataframe thead th {\n",
       "        text-align: right;\n",
       "    }\n",
       "</style>\n",
       "<table border=\"1\" class=\"dataframe\">\n",
       "  <thead>\n",
       "    <tr style=\"text-align: right;\">\n",
       "      <th></th>\n",
       "      <th>a</th>\n",
       "      <th>b</th>\n",
       "      <th>c</th>\n",
       "      <th>d</th>\n",
       "      <th>e</th>\n",
       "    </tr>\n",
       "  </thead>\n",
       "  <tbody>\n",
       "    <tr>\n",
       "      <th>3</th>\n",
       "      <td>-1.141660</td>\n",
       "      <td>0.620849</td>\n",
       "      <td>0.667648</td>\n",
       "      <td>0.620380</td>\n",
       "      <td>-1.702257</td>\n",
       "    </tr>\n",
       "    <tr>\n",
       "      <th>5</th>\n",
       "      <td>0.081986</td>\n",
       "      <td>2.037134</td>\n",
       "      <td>0.441812</td>\n",
       "      <td>-0.633124</td>\n",
       "      <td>-0.536619</td>\n",
       "    </tr>\n",
       "    <tr>\n",
       "      <th>6</th>\n",
       "      <td>-0.586643</td>\n",
       "      <td>1.010123</td>\n",
       "      <td>0.382475</td>\n",
       "      <td>-0.751434</td>\n",
       "      <td>0.190100</td>\n",
       "    </tr>\n",
       "  </tbody>\n",
       "</table>\n",
       "</div>"
      ],
      "text/plain": [
       "          a         b         c         d         e\n",
       "3 -1.141660  0.620849  0.667648  0.620380 -1.702257\n",
       "5  0.081986  2.037134  0.441812 -0.633124 -0.536619\n",
       "6 -0.586643  1.010123  0.382475 -0.751434  0.190100"
      ]
     },
     "execution_count": 46,
     "metadata": {},
     "output_type": "execute_result"
    }
   ],
   "source": [
    "people.groupby(len).sum() # group by the length of the names"
   ]
  },
  {
   "cell_type": "code",
   "execution_count": 47,
   "metadata": {},
   "outputs": [
    {
     "data": {
      "text/html": [
       "<div>\n",
       "<style scoped>\n",
       "    .dataframe tbody tr th:only-of-type {\n",
       "        vertical-align: middle;\n",
       "    }\n",
       "\n",
       "    .dataframe tbody tr th {\n",
       "        vertical-align: top;\n",
       "    }\n",
       "\n",
       "    .dataframe thead th {\n",
       "        text-align: right;\n",
       "    }\n",
       "</style>\n",
       "<table border=\"1\" class=\"dataframe\">\n",
       "  <thead>\n",
       "    <tr style=\"text-align: right;\">\n",
       "      <th></th>\n",
       "      <th></th>\n",
       "      <th>a</th>\n",
       "      <th>b</th>\n",
       "      <th>c</th>\n",
       "      <th>d</th>\n",
       "      <th>e</th>\n",
       "    </tr>\n",
       "  </thead>\n",
       "  <tbody>\n",
       "    <tr>\n",
       "      <th rowspan=\"2\" valign=\"top\">3</th>\n",
       "      <th>one</th>\n",
       "      <td>-0.451300</td>\n",
       "      <td>0.945312</td>\n",
       "      <td>0.495532</td>\n",
       "      <td>-0.086441</td>\n",
       "      <td>-0.172423</td>\n",
       "    </tr>\n",
       "    <tr>\n",
       "      <th>two</th>\n",
       "      <td>-0.582920</td>\n",
       "      <td>-0.324463</td>\n",
       "      <td>0.172116</td>\n",
       "      <td>0.311705</td>\n",
       "      <td>-2.157915</td>\n",
       "    </tr>\n",
       "    <tr>\n",
       "      <th>5</th>\n",
       "      <th>one</th>\n",
       "      <td>0.081986</td>\n",
       "      <td>2.037134</td>\n",
       "      <td>0.441812</td>\n",
       "      <td>-0.633124</td>\n",
       "      <td>-0.536619</td>\n",
       "    </tr>\n",
       "    <tr>\n",
       "      <th>6</th>\n",
       "      <th>two</th>\n",
       "      <td>-0.586643</td>\n",
       "      <td>1.010123</td>\n",
       "      <td>0.382475</td>\n",
       "      <td>-0.751434</td>\n",
       "      <td>0.190100</td>\n",
       "    </tr>\n",
       "  </tbody>\n",
       "</table>\n",
       "</div>"
      ],
      "text/plain": [
       "              a         b         c         d         e\n",
       "3 one -0.451300  0.945312  0.495532 -0.086441 -0.172423\n",
       "  two -0.582920 -0.324463  0.172116  0.311705 -2.157915\n",
       "5 one  0.081986  2.037134  0.441812 -0.633124 -0.536619\n",
       "6 two -0.586643  1.010123  0.382475 -0.751434  0.190100"
      ]
     },
     "execution_count": 47,
     "metadata": {},
     "output_type": "execute_result"
    }
   ],
   "source": [
    "key_list = ['one', 'one', 'one', 'two', 'two']\n",
    "people.groupby([len, key_list]).min()"
   ]
  },
  {
   "cell_type": "markdown",
   "metadata": {},
   "source": [
    "<div class=\"alert alert-warning\">\n",
    "<b>Aggregation</b> \n",
    "</div>"
   ]
  },
  {
   "cell_type": "code",
   "execution_count": 48,
   "metadata": {},
   "outputs": [
    {
     "data": {
      "text/html": [
       "<div>\n",
       "<style scoped>\n",
       "    .dataframe tbody tr th:only-of-type {\n",
       "        vertical-align: middle;\n",
       "    }\n",
       "\n",
       "    .dataframe tbody tr th {\n",
       "        vertical-align: top;\n",
       "    }\n",
       "\n",
       "    .dataframe thead th {\n",
       "        text-align: right;\n",
       "    }\n",
       "</style>\n",
       "<table border=\"1\" class=\"dataframe\">\n",
       "  <thead>\n",
       "    <tr style=\"text-align: right;\">\n",
       "      <th></th>\n",
       "      <th>key1</th>\n",
       "      <th>key2</th>\n",
       "      <th>data1</th>\n",
       "      <th>data2</th>\n",
       "    </tr>\n",
       "  </thead>\n",
       "  <tbody>\n",
       "    <tr>\n",
       "      <th>0</th>\n",
       "      <td>a</td>\n",
       "      <td>one</td>\n",
       "      <td>0.571023</td>\n",
       "      <td>0.065621</td>\n",
       "    </tr>\n",
       "    <tr>\n",
       "      <th>1</th>\n",
       "      <td>a</td>\n",
       "      <td>two</td>\n",
       "      <td>-0.371510</td>\n",
       "      <td>-0.119114</td>\n",
       "    </tr>\n",
       "    <tr>\n",
       "      <th>2</th>\n",
       "      <td>b</td>\n",
       "      <td>one</td>\n",
       "      <td>-0.102368</td>\n",
       "      <td>0.575196</td>\n",
       "    </tr>\n",
       "    <tr>\n",
       "      <th>3</th>\n",
       "      <td>b</td>\n",
       "      <td>two</td>\n",
       "      <td>-2.878711</td>\n",
       "      <td>-1.184407</td>\n",
       "    </tr>\n",
       "    <tr>\n",
       "      <th>4</th>\n",
       "      <td>a</td>\n",
       "      <td>one</td>\n",
       "      <td>-1.258207</td>\n",
       "      <td>-0.687713</td>\n",
       "    </tr>\n",
       "  </tbody>\n",
       "</table>\n",
       "</div>"
      ],
      "text/plain": [
       "  key1 key2     data1     data2\n",
       "0    a  one  0.571023  0.065621\n",
       "1    a  two -0.371510 -0.119114\n",
       "2    b  one -0.102368  0.575196\n",
       "3    b  two -2.878711 -1.184407\n",
       "4    a  one -1.258207 -0.687713"
      ]
     },
     "execution_count": 48,
     "metadata": {},
     "output_type": "execute_result"
    }
   ],
   "source": [
    "df = pd.DataFrame({'key1' : ['a', 'a', 'b', 'b', 'a'], \n",
    "                'key2' : ['one', 'two', 'one', 'two', 'one'],\n",
    "                'data1' : np.random.randn(5),\n",
    "                'data2' : np.random.randn(5)})\n",
    "df"
   ]
  },
  {
   "cell_type": "code",
   "execution_count": 49,
   "metadata": {},
   "outputs": [
    {
     "data": {
      "text/html": [
       "<div>\n",
       "<style scoped>\n",
       "    .dataframe tbody tr th:only-of-type {\n",
       "        vertical-align: middle;\n",
       "    }\n",
       "\n",
       "    .dataframe tbody tr th {\n",
       "        vertical-align: top;\n",
       "    }\n",
       "\n",
       "    .dataframe thead th {\n",
       "        text-align: right;\n",
       "    }\n",
       "</style>\n",
       "<table border=\"1\" class=\"dataframe\">\n",
       "  <thead>\n",
       "    <tr style=\"text-align: right;\">\n",
       "      <th></th>\n",
       "      <th>data1</th>\n",
       "      <th>data2</th>\n",
       "    </tr>\n",
       "    <tr>\n",
       "      <th>key1</th>\n",
       "      <th></th>\n",
       "      <th></th>\n",
       "    </tr>\n",
       "  </thead>\n",
       "  <tbody>\n",
       "    <tr>\n",
       "      <th>a</th>\n",
       "      <td>1.829229</td>\n",
       "      <td>0.753334</td>\n",
       "    </tr>\n",
       "    <tr>\n",
       "      <th>b</th>\n",
       "      <td>2.776343</td>\n",
       "      <td>1.759603</td>\n",
       "    </tr>\n",
       "  </tbody>\n",
       "</table>\n",
       "</div>"
      ],
      "text/plain": [
       "         data1     data2\n",
       "key1                    \n",
       "a     1.829229  0.753334\n",
       "b     2.776343  1.759603"
      ]
     },
     "execution_count": 49,
     "metadata": {},
     "output_type": "execute_result"
    }
   ],
   "source": [
    "grouped = df.groupby(['key1'])\n",
    "grouped.agg(lambda x: x.max()-x.min())"
   ]
  },
  {
   "cell_type": "code",
   "execution_count": 50,
   "metadata": {},
   "outputs": [
    {
     "data": {
      "text/html": [
       "<div>\n",
       "<style scoped>\n",
       "    .dataframe tbody tr th:only-of-type {\n",
       "        vertical-align: middle;\n",
       "    }\n",
       "\n",
       "    .dataframe tbody tr th {\n",
       "        vertical-align: top;\n",
       "    }\n",
       "\n",
       "    .dataframe thead th {\n",
       "        text-align: right;\n",
       "    }\n",
       "</style>\n",
       "<table border=\"1\" class=\"dataframe\">\n",
       "  <thead>\n",
       "    <tr style=\"text-align: right;\">\n",
       "      <th></th>\n",
       "      <th></th>\n",
       "      <th>data1</th>\n",
       "      <th>data2</th>\n",
       "    </tr>\n",
       "    <tr>\n",
       "      <th>key1</th>\n",
       "      <th></th>\n",
       "      <th></th>\n",
       "      <th></th>\n",
       "    </tr>\n",
       "  </thead>\n",
       "  <tbody>\n",
       "    <tr>\n",
       "      <th rowspan=\"8\" valign=\"top\">a</th>\n",
       "      <th>count</th>\n",
       "      <td>3.000000</td>\n",
       "      <td>3.000000</td>\n",
       "    </tr>\n",
       "    <tr>\n",
       "      <th>mean</th>\n",
       "      <td>-0.352898</td>\n",
       "      <td>-0.247069</td>\n",
       "    </tr>\n",
       "    <tr>\n",
       "      <th>std</th>\n",
       "      <td>0.914757</td>\n",
       "      <td>0.392629</td>\n",
       "    </tr>\n",
       "    <tr>\n",
       "      <th>min</th>\n",
       "      <td>-1.258207</td>\n",
       "      <td>-0.687713</td>\n",
       "    </tr>\n",
       "    <tr>\n",
       "      <th>25%</th>\n",
       "      <td>-0.814858</td>\n",
       "      <td>-0.403413</td>\n",
       "    </tr>\n",
       "    <tr>\n",
       "      <th>50%</th>\n",
       "      <td>-0.371510</td>\n",
       "      <td>-0.119114</td>\n",
       "    </tr>\n",
       "    <tr>\n",
       "      <th>75%</th>\n",
       "      <td>0.099756</td>\n",
       "      <td>-0.026747</td>\n",
       "    </tr>\n",
       "    <tr>\n",
       "      <th>max</th>\n",
       "      <td>0.571023</td>\n",
       "      <td>0.065621</td>\n",
       "    </tr>\n",
       "    <tr>\n",
       "      <th rowspan=\"8\" valign=\"top\">b</th>\n",
       "      <th>count</th>\n",
       "      <td>2.000000</td>\n",
       "      <td>2.000000</td>\n",
       "    </tr>\n",
       "    <tr>\n",
       "      <th>mean</th>\n",
       "      <td>-1.490539</td>\n",
       "      <td>-0.304606</td>\n",
       "    </tr>\n",
       "    <tr>\n",
       "      <th>std</th>\n",
       "      <td>1.963171</td>\n",
       "      <td>1.244227</td>\n",
       "    </tr>\n",
       "    <tr>\n",
       "      <th>min</th>\n",
       "      <td>-2.878711</td>\n",
       "      <td>-1.184407</td>\n",
       "    </tr>\n",
       "    <tr>\n",
       "      <th>25%</th>\n",
       "      <td>-2.184625</td>\n",
       "      <td>-0.744507</td>\n",
       "    </tr>\n",
       "    <tr>\n",
       "      <th>50%</th>\n",
       "      <td>-1.490539</td>\n",
       "      <td>-0.304606</td>\n",
       "    </tr>\n",
       "    <tr>\n",
       "      <th>75%</th>\n",
       "      <td>-0.796454</td>\n",
       "      <td>0.135295</td>\n",
       "    </tr>\n",
       "    <tr>\n",
       "      <th>max</th>\n",
       "      <td>-0.102368</td>\n",
       "      <td>0.575196</td>\n",
       "    </tr>\n",
       "  </tbody>\n",
       "</table>\n",
       "</div>"
      ],
      "text/plain": [
       "               data1     data2\n",
       "key1                          \n",
       "a    count  3.000000  3.000000\n",
       "     mean  -0.352898 -0.247069\n",
       "     std    0.914757  0.392629\n",
       "     min   -1.258207 -0.687713\n",
       "     25%   -0.814858 -0.403413\n",
       "     50%   -0.371510 -0.119114\n",
       "     75%    0.099756 -0.026747\n",
       "     max    0.571023  0.065621\n",
       "b    count  2.000000  2.000000\n",
       "     mean  -1.490539 -0.304606\n",
       "     std    1.963171  1.244227\n",
       "     min   -2.878711 -1.184407\n",
       "     25%   -2.184625 -0.744507\n",
       "     50%   -1.490539 -0.304606\n",
       "     75%   -0.796454  0.135295\n",
       "     max   -0.102368  0.575196"
      ]
     },
     "execution_count": 50,
     "metadata": {},
     "output_type": "execute_result"
    }
   ],
   "source": [
    "grouped.describe().stack()"
   ]
  },
  {
   "cell_type": "code",
   "execution_count": 51,
   "metadata": {},
   "outputs": [
    {
     "data": {
      "text/html": [
       "<div>\n",
       "<style scoped>\n",
       "    .dataframe tbody tr th:only-of-type {\n",
       "        vertical-align: middle;\n",
       "    }\n",
       "\n",
       "    .dataframe tbody tr th {\n",
       "        vertical-align: top;\n",
       "    }\n",
       "\n",
       "    .dataframe thead th {\n",
       "        text-align: right;\n",
       "    }\n",
       "</style>\n",
       "<table border=\"1\" class=\"dataframe\">\n",
       "  <thead>\n",
       "    <tr style=\"text-align: right;\">\n",
       "      <th></th>\n",
       "      <th></th>\n",
       "      <th>data1</th>\n",
       "      <th>data2</th>\n",
       "    </tr>\n",
       "    <tr>\n",
       "      <th>key1</th>\n",
       "      <th></th>\n",
       "      <th></th>\n",
       "      <th></th>\n",
       "    </tr>\n",
       "  </thead>\n",
       "  <tbody>\n",
       "    <tr>\n",
       "      <th rowspan=\"3\" valign=\"top\">a</th>\n",
       "      <th>mean</th>\n",
       "      <td>-0.352898</td>\n",
       "      <td>-0.247069</td>\n",
       "    </tr>\n",
       "    <tr>\n",
       "      <th>std</th>\n",
       "      <td>0.914757</td>\n",
       "      <td>0.392629</td>\n",
       "    </tr>\n",
       "    <tr>\n",
       "      <th>&lt;lambda&gt;</th>\n",
       "      <td>1.829229</td>\n",
       "      <td>0.753334</td>\n",
       "    </tr>\n",
       "    <tr>\n",
       "      <th rowspan=\"3\" valign=\"top\">b</th>\n",
       "      <th>mean</th>\n",
       "      <td>-1.490539</td>\n",
       "      <td>-0.304606</td>\n",
       "    </tr>\n",
       "    <tr>\n",
       "      <th>std</th>\n",
       "      <td>1.963171</td>\n",
       "      <td>1.244227</td>\n",
       "    </tr>\n",
       "    <tr>\n",
       "      <th>&lt;lambda&gt;</th>\n",
       "      <td>2.776343</td>\n",
       "      <td>1.759603</td>\n",
       "    </tr>\n",
       "  </tbody>\n",
       "</table>\n",
       "</div>"
      ],
      "text/plain": [
       "                  data1     data2\n",
       "key1                             \n",
       "a    mean     -0.352898 -0.247069\n",
       "     std       0.914757  0.392629\n",
       "     <lambda>  1.829229  0.753334\n",
       "b    mean     -1.490539 -0.304606\n",
       "     std       1.963171  1.244227\n",
       "     <lambda>  2.776343  1.759603"
      ]
     },
     "execution_count": 51,
     "metadata": {},
     "output_type": "execute_result"
    }
   ],
   "source": [
    "grouped.agg(['mean', 'std', lambda x: x.max()-x.min()]).stack()"
   ]
  },
  {
   "cell_type": "code",
   "execution_count": 52,
   "metadata": {},
   "outputs": [
    {
     "data": {
      "text/html": [
       "<div>\n",
       "<style scoped>\n",
       "    .dataframe tbody tr th:only-of-type {\n",
       "        vertical-align: middle;\n",
       "    }\n",
       "\n",
       "    .dataframe tbody tr th {\n",
       "        vertical-align: top;\n",
       "    }\n",
       "\n",
       "    .dataframe thead th {\n",
       "        text-align: right;\n",
       "    }\n",
       "</style>\n",
       "<table border=\"1\" class=\"dataframe\">\n",
       "  <thead>\n",
       "    <tr style=\"text-align: right;\">\n",
       "      <th></th>\n",
       "      <th></th>\n",
       "      <th>data1</th>\n",
       "      <th>data2</th>\n",
       "    </tr>\n",
       "    <tr>\n",
       "      <th>key1</th>\n",
       "      <th></th>\n",
       "      <th></th>\n",
       "      <th></th>\n",
       "    </tr>\n",
       "  </thead>\n",
       "  <tbody>\n",
       "    <tr>\n",
       "      <th rowspan=\"3\" valign=\"top\">a</th>\n",
       "      <th>Average value</th>\n",
       "      <td>-0.352898</td>\n",
       "      <td>-0.247069</td>\n",
       "    </tr>\n",
       "    <tr>\n",
       "      <th>Standard deviation</th>\n",
       "      <td>0.914757</td>\n",
       "      <td>0.392629</td>\n",
       "    </tr>\n",
       "    <tr>\n",
       "      <th>Range</th>\n",
       "      <td>1.829229</td>\n",
       "      <td>0.753334</td>\n",
       "    </tr>\n",
       "    <tr>\n",
       "      <th rowspan=\"3\" valign=\"top\">b</th>\n",
       "      <th>Average value</th>\n",
       "      <td>-1.490539</td>\n",
       "      <td>-0.304606</td>\n",
       "    </tr>\n",
       "    <tr>\n",
       "      <th>Standard deviation</th>\n",
       "      <td>1.963171</td>\n",
       "      <td>1.244227</td>\n",
       "    </tr>\n",
       "    <tr>\n",
       "      <th>Range</th>\n",
       "      <td>2.776343</td>\n",
       "      <td>1.759603</td>\n",
       "    </tr>\n",
       "  </tbody>\n",
       "</table>\n",
       "</div>"
      ],
      "text/plain": [
       "                            data1     data2\n",
       "key1                                       \n",
       "a    Average value      -0.352898 -0.247069\n",
       "     Standard deviation  0.914757  0.392629\n",
       "     Range               1.829229  0.753334\n",
       "b    Average value      -1.490539 -0.304606\n",
       "     Standard deviation  1.963171  1.244227\n",
       "     Range               2.776343  1.759603"
      ]
     },
     "execution_count": 52,
     "metadata": {},
     "output_type": "execute_result"
    }
   ],
   "source": [
    "# Add names to different aggregation functions\n",
    "grouped.agg([('Average value','mean'), ('Standard deviation','std'), ('Range',lambda x: x.max()-x.min())]).stack()"
   ]
  },
  {
   "cell_type": "markdown",
   "metadata": {},
   "source": [
    "<div class=\"alert alert-warning\">\n",
    "<b>Transform values</b> \n",
    "</div>"
   ]
  },
  {
   "cell_type": "code",
   "execution_count": 53,
   "metadata": {},
   "outputs": [
    {
     "name": "stdout",
     "output_type": "stream",
     "text": [
      "Before transforming: \n",
      "  key1 key2     data1     data2\n",
      "0    a  one  0.571023  0.065621\n",
      "1    a  two -0.371510 -0.119114\n",
      "2    b  one -0.102368  0.575196\n",
      "3    b  two -2.878711 -1.184407\n",
      "4    a  one -1.258207 -0.687713\n",
      "\n",
      "After transforming: \n",
      "      data1     data2\n",
      "0 -0.352898 -0.247069\n",
      "1 -0.352898 -0.247069\n",
      "2 -1.490539 -0.304606\n",
      "3 -1.490539 -0.304606\n",
      "4 -0.352898 -0.247069\n"
     ]
    }
   ],
   "source": [
    "# Example: Use mean values to replace the original values\n",
    "print(\"Before transforming: \")\n",
    "print(df)\n",
    "print(\"\\nAfter transforming: \")\n",
    "print(df.groupby(['key1']).transform(np.mean))"
   ]
  },
  {
   "cell_type": "markdown",
   "metadata": {},
   "source": [
    "<div class=\"alert alert-info\">\n",
    "<b>Note: </b> <p>If you are familiar with SQL, you may check the comparison between <code>Pandas</code> and <code>SQL</code> <a href=\"https://pandas.pydata.org/pandas-docs/stable/comparison_with_sql.html\" style=\"color: red\">here</a>.</p>\n",
    "<p>More information about <code>Pandas</code> can be found <a href=\"https://pandas.pydata.org/pandas-docs/stable/tutorials.html\" style=\"color: red\">here</a>.</p>\n",
    "</div>"
   ]
  },
  {
   "cell_type": "code",
   "execution_count": null,
   "metadata": {},
   "outputs": [],
   "source": []
  },
  {
   "cell_type": "code",
   "execution_count": null,
   "metadata": {},
   "outputs": [],
   "source": []
  },
  {
   "cell_type": "markdown",
   "metadata": {},
   "source": [
    "\n"
   ]
  }
 ],
 "metadata": {
  "kernelspec": {
   "display_name": "Python 3",
   "language": "python",
   "name": "python3"
  },
  "language_info": {
   "codemirror_mode": {
    "name": "ipython",
    "version": 3
   },
   "file_extension": ".py",
   "mimetype": "text/x-python",
   "name": "python",
   "nbconvert_exporter": "python",
   "pygments_lexer": "ipython3",
   "version": "3.6.8"
  }
 },
 "nbformat": 4,
 "nbformat_minor": 2
}
